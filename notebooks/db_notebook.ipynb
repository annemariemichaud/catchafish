{
 "cells": [
  {
   "cell_type": "markdown",
   "metadata": {},
   "source": [
    "# BASELINE PREREQUISITES"
   ]
  },
  {
   "cell_type": "markdown",
   "metadata": {},
   "source": [
    "### IMPORT LIBRARIES"
   ]
  },
  {
   "cell_type": "code",
   "execution_count": 1,
   "metadata": {},
   "outputs": [],
   "source": [
    "import os\n",
    "from tensorflow.keras.preprocessing.image import DirectoryIterator, ImageDataGenerator\n",
    "from sklearn.model_selection import train_test_split\n",
    "import numpy as np\n",
    "import matplotlib.pyplot as plt\n",
    "import seaborn as sns\n",
    "from sklearn.linear_model import LogisticRegression\n",
    "from sklearn.linear_model import SGDClassifier\n",
    "\n",
    "from sklearn.svm import SVC\n",
    "from sklearn.preprocessing import MinMaxScaler\n",
    "from random import sample"
   ]
  },
  {
   "cell_type": "markdown",
   "metadata": {},
   "source": [
    "### DEFINITIONS"
   ]
  },
  {
   "cell_type": "markdown",
   "metadata": {},
   "source": [
    "#### GET DATA FROM TRAIN DATASET"
   ]
  },
  {
   "cell_type": "markdown",
   "metadata": {},
   "source": [
    "def get_data(val_split = False, test_size = 0.3):\n",
    "    '''This function returns the '''\n",
    "    path = '../catchafish/data'\n",
    "    batch_size = 100000\n",
    "    \n",
    "    dir_iterator = DirectoryIterator(directory = path, \n",
    "                                     image_data_generator = None, \n",
    "                                     target_size = (32, 32), \n",
    "                                     batch_size = batch_size,\n",
    "                                     shuffle = True, \n",
    "                                     dtype = int)\n",
    "    \n",
    "    X = dir_iterator[0][0]\n",
    "    y = dir_iterator.labels\n",
    "    \n",
    "    X_train, X_test, y_train, y_test = train_test_split(X, y, test_size = 0.3, random_state = 1)\n",
    "    \n",
    "    if val_split:\n",
    "        X_train, X_val, y_train, y_val = train_test_split(X_train, y_train, test_size = 0.3)\n",
    "        return X_train, X_val, X_test, y_train, y_val, y_test\n",
    "    else:\n",
    "        return X_train, X_test, y_train, y_test"
   ]
  },
  {
   "cell_type": "markdown",
   "metadata": {},
   "source": [
    "X_train, X_test, y_train, y_test = get_data()"
   ]
  },
  {
   "cell_type": "markdown",
   "metadata": {},
   "source": [
    "#### GET DATA FROM TEST DATASET"
   ]
  },
  {
   "cell_type": "code",
   "execution_count": 10,
   "metadata": {},
   "outputs": [],
   "source": [
    "def get_data_test(val_split = False, val_size = 0.3, zca_whitening = False):\n",
    "    path = '../catchafish/data_test'\n",
    "    batch_size = 1500\n",
    "    dir_iterator = DirectoryIterator(directory = path,\n",
    "                                     image_data_generator = None,\n",
    "                                     target_size = (128, 128),\n",
    "                                     batch_size = batch_size,\n",
    "                                     shuffle = False,\n",
    "                                     dtype = int)\n",
    "    X = dir_iterator[0][0] / 255\n",
    "    y = dir_iterator.labels\n",
    "    X_train, X_test, y_train, y_test = train_test_split(X, y, test_size = 0.3, random_state = 1)\n",
    "    image_data_generator = ImageDataGenerator(zca_whitening = zca_whitening,\n",
    "                                              rotation_range = 5,\n",
    "                                              width_shift_range = 0.3,\n",
    "                                              height_shift_range = 0.3,\n",
    "                                              shear_range = 0.3,\n",
    "                                              zoom_range = 0.3,\n",
    "                                              horizontal_flip = True,\n",
    "                                              fill_mode = 'nearest')\n",
    "    if zca_whitening:\n",
    "        image_data_generator.fit(X_train)\n",
    "\n",
    "    extended_output = []\n",
    "    for images in image_data_generator.flow(X_train, y_train, batch_size = batch_size):\n",
    "        extended_output.append(images)\n",
    "        if len(extended_output) == 5:\n",
    "            break\n",
    "\n",
    "    X_train = extended_output[0][0]\n",
    "    y_train = extended_output[0][1]\n",
    "\n",
    "    for data_tuple in extended_output[1:]:\n",
    "        X_train = np.concatenate((X_train, data_tuple[0]), axis = 0)\n",
    "        y_train = np.concatenate((y_train, data_tuple[1]), axis = 0)\n",
    "\n",
    "    if val_split:\n",
    "        X_train, X_val, y_train, y_val = train_test_split(X_train, y_train, test_size = val_size)\n",
    "        return X_train, X_val, X_test, y_train, y_val, y_test\n",
    "    else:\n",
    "        return X_train, X_test, y_train, y_test"
   ]
  },
  {
   "cell_type": "code",
   "execution_count": 11,
   "metadata": {},
   "outputs": [
    {
     "name": "stdout",
     "output_type": "stream",
     "text": [
      "Found 1305 images belonging to 11 classes.\n"
     ]
    }
   ],
   "source": [
    "X_train, X_test, y_train, y_test = get_data_test()"
   ]
  },
  {
   "cell_type": "code",
   "execution_count": 12,
   "metadata": {},
   "outputs": [
    {
     "data": {
      "text/plain": [
       "((4565, 128, 128, 3), (392, 128, 128, 3), (4565,), (392,))"
      ]
     },
     "execution_count": 12,
     "metadata": {},
     "output_type": "execute_result"
    }
   ],
   "source": [
    "X_train.shape, X_test.shape, y_train.shape, y_test.shape"
   ]
  },
  {
   "cell_type": "markdown",
   "metadata": {},
   "source": [
    "#### MAPPING FISHES NAMES"
   ]
  },
  {
   "cell_type": "code",
   "execution_count": 49,
   "metadata": {},
   "outputs": [],
   "source": [
    "def names_mapping(key):\n",
    "    fishes = { 0 : (\"fish_01\", \"Dascyllus reticulatus\"),\n",
    "             1 : (\"fish_02\", \"Plectroglyphidodon dickii\"),\n",
    "             2 : (\"fish_03\", \"Chromis chrysura\"),\n",
    "             3 : (\"fish_04\", \"Amphiprion clarkii\"),\n",
    "             4 : (\"fish_05\", \"Chaetodon lunulatus\"),\n",
    "             5 : (\"fish_06\", \"Chaetodon trifascialis\"),\n",
    "             6 : (\"fish_07\", \"Myripristis kuntee\"),\n",
    "             7 : (\"fish_08\", \"Acanthurus nigrofuscus\"),\n",
    "             8 : (\"fish_09\", \"Hemigymnus fasciatus\"),\n",
    "             9 : (\"fish_10\", \"Neoniphon sammara\"),\n",
    "             10: (\"fish_16\", \"Lutjanus fulvus\")}\n",
    "    if len(key) == 1:\n",
    "        return fishes[key]\n",
    "    else: return [fishes[k] for k in key]"
   ]
  },
  {
   "cell_type": "code",
   "execution_count": 50,
   "metadata": {},
   "outputs": [
    {
     "data": {
      "text/plain": [
       "[('fish_04', 'Amphiprion clarkii'),\n",
       " ('fish_09', 'Hemigymnus fasciatus'),\n",
       " ('fish_01', 'Dascyllus reticulatus'),\n",
       " ('fish_02', 'Plectroglyphidodon dickii'),\n",
       " ('fish_01', 'Dascyllus reticulatus'),\n",
       " ('fish_01', 'Dascyllus reticulatus'),\n",
       " ('fish_01', 'Dascyllus reticulatus'),\n",
       " ('fish_01', 'Dascyllus reticulatus'),\n",
       " ('fish_01', 'Dascyllus reticulatus'),\n",
       " ('fish_07', 'Myripristis kuntee'),\n",
       " ('fish_02', 'Plectroglyphidodon dickii'),\n",
       " ('fish_03', 'Chromis chrysura'),\n",
       " ('fish_03', 'Chromis chrysura'),\n",
       " ('fish_02', 'Plectroglyphidodon dickii'),\n",
       " ('fish_01', 'Dascyllus reticulatus'),\n",
       " ('fish_01', 'Dascyllus reticulatus'),\n",
       " ('fish_02', 'Plectroglyphidodon dickii'),\n",
       " ('fish_01', 'Dascyllus reticulatus'),\n",
       " ('fish_01', 'Dascyllus reticulatus'),\n",
       " ('fish_07', 'Myripristis kuntee'),\n",
       " ('fish_04', 'Amphiprion clarkii'),\n",
       " ('fish_04', 'Amphiprion clarkii'),\n",
       " ('fish_04', 'Amphiprion clarkii'),\n",
       " ('fish_01', 'Dascyllus reticulatus'),\n",
       " ('fish_04', 'Amphiprion clarkii'),\n",
       " ('fish_01', 'Dascyllus reticulatus'),\n",
       " ('fish_01', 'Dascyllus reticulatus'),\n",
       " ('fish_01', 'Dascyllus reticulatus'),\n",
       " ('fish_03', 'Chromis chrysura'),\n",
       " ('fish_04', 'Amphiprion clarkii'),\n",
       " ('fish_04', 'Amphiprion clarkii'),\n",
       " ('fish_01', 'Dascyllus reticulatus'),\n",
       " ('fish_04', 'Amphiprion clarkii'),\n",
       " ('fish_02', 'Plectroglyphidodon dickii'),\n",
       " ('fish_02', 'Plectroglyphidodon dickii'),\n",
       " ('fish_04', 'Amphiprion clarkii'),\n",
       " ('fish_01', 'Dascyllus reticulatus'),\n",
       " ('fish_01', 'Dascyllus reticulatus'),\n",
       " ('fish_02', 'Plectroglyphidodon dickii'),\n",
       " ('fish_04', 'Amphiprion clarkii'),\n",
       " ('fish_04', 'Amphiprion clarkii'),\n",
       " ('fish_04', 'Amphiprion clarkii'),\n",
       " ('fish_01', 'Dascyllus reticulatus'),\n",
       " ('fish_01', 'Dascyllus reticulatus'),\n",
       " ('fish_01', 'Dascyllus reticulatus'),\n",
       " ('fish_04', 'Amphiprion clarkii'),\n",
       " ('fish_02', 'Plectroglyphidodon dickii'),\n",
       " ('fish_01', 'Dascyllus reticulatus'),\n",
       " ('fish_03', 'Chromis chrysura'),\n",
       " ('fish_03', 'Chromis chrysura'),\n",
       " ('fish_05', 'Chaetodon lunulatus'),\n",
       " ('fish_04', 'Amphiprion clarkii'),\n",
       " ('fish_01', 'Dascyllus reticulatus'),\n",
       " ('fish_06', 'Chaetodon trifascialis'),\n",
       " ('fish_05', 'Chaetodon lunulatus'),\n",
       " ('fish_02', 'Plectroglyphidodon dickii'),\n",
       " ('fish_01', 'Dascyllus reticulatus'),\n",
       " ('fish_01', 'Dascyllus reticulatus'),\n",
       " ('fish_03', 'Chromis chrysura'),\n",
       " ('fish_01', 'Dascyllus reticulatus'),\n",
       " ('fish_03', 'Chromis chrysura'),\n",
       " ('fish_04', 'Amphiprion clarkii'),\n",
       " ('fish_04', 'Amphiprion clarkii'),\n",
       " ('fish_06', 'Chaetodon trifascialis'),\n",
       " ('fish_01', 'Dascyllus reticulatus'),\n",
       " ('fish_01', 'Dascyllus reticulatus'),\n",
       " ('fish_02', 'Plectroglyphidodon dickii'),\n",
       " ('fish_01', 'Dascyllus reticulatus'),\n",
       " ('fish_01', 'Dascyllus reticulatus'),\n",
       " ('fish_03', 'Chromis chrysura'),\n",
       " ('fish_02', 'Plectroglyphidodon dickii'),\n",
       " ('fish_01', 'Dascyllus reticulatus'),\n",
       " ('fish_01', 'Dascyllus reticulatus'),\n",
       " ('fish_01', 'Dascyllus reticulatus'),\n",
       " ('fish_01', 'Dascyllus reticulatus'),\n",
       " ('fish_03', 'Chromis chrysura'),\n",
       " ('fish_01', 'Dascyllus reticulatus'),\n",
       " ('fish_04', 'Amphiprion clarkii'),\n",
       " ('fish_05', 'Chaetodon lunulatus'),\n",
       " ('fish_01', 'Dascyllus reticulatus'),\n",
       " ('fish_05', 'Chaetodon lunulatus'),\n",
       " ('fish_03', 'Chromis chrysura'),\n",
       " ('fish_01', 'Dascyllus reticulatus'),\n",
       " ('fish_01', 'Dascyllus reticulatus'),\n",
       " ('fish_01', 'Dascyllus reticulatus'),\n",
       " ('fish_01', 'Dascyllus reticulatus'),\n",
       " ('fish_04', 'Amphiprion clarkii'),\n",
       " ('fish_01', 'Dascyllus reticulatus'),\n",
       " ('fish_01', 'Dascyllus reticulatus'),\n",
       " ('fish_05', 'Chaetodon lunulatus'),\n",
       " ('fish_01', 'Dascyllus reticulatus'),\n",
       " ('fish_01', 'Dascyllus reticulatus'),\n",
       " ('fish_03', 'Chromis chrysura'),\n",
       " ('fish_03', 'Chromis chrysura'),\n",
       " ('fish_01', 'Dascyllus reticulatus'),\n",
       " ('fish_05', 'Chaetodon lunulatus'),\n",
       " ('fish_05', 'Chaetodon lunulatus'),\n",
       " ('fish_03', 'Chromis chrysura'),\n",
       " ('fish_01', 'Dascyllus reticulatus'),\n",
       " ('fish_03', 'Chromis chrysura'),\n",
       " ('fish_03', 'Chromis chrysura'),\n",
       " ('fish_03', 'Chromis chrysura'),\n",
       " ('fish_02', 'Plectroglyphidodon dickii'),\n",
       " ('fish_07', 'Myripristis kuntee'),\n",
       " ('fish_03', 'Chromis chrysura'),\n",
       " ('fish_01', 'Dascyllus reticulatus'),\n",
       " ('fish_04', 'Amphiprion clarkii'),\n",
       " ('fish_03', 'Chromis chrysura'),\n",
       " ('fish_04', 'Amphiprion clarkii'),\n",
       " ('fish_05', 'Chaetodon lunulatus'),\n",
       " ('fish_03', 'Chromis chrysura'),\n",
       " ('fish_01', 'Dascyllus reticulatus'),\n",
       " ('fish_05', 'Chaetodon lunulatus'),\n",
       " ('fish_01', 'Dascyllus reticulatus'),\n",
       " ('fish_01', 'Dascyllus reticulatus'),\n",
       " ('fish_03', 'Chromis chrysura'),\n",
       " ('fish_04', 'Amphiprion clarkii'),\n",
       " ('fish_16', 'Lutjanus fulvus'),\n",
       " ('fish_01', 'Dascyllus reticulatus'),\n",
       " ('fish_01', 'Dascyllus reticulatus'),\n",
       " ('fish_01', 'Dascyllus reticulatus'),\n",
       " ('fish_05', 'Chaetodon lunulatus'),\n",
       " ('fish_01', 'Dascyllus reticulatus'),\n",
       " ('fish_01', 'Dascyllus reticulatus'),\n",
       " ('fish_03', 'Chromis chrysura'),\n",
       " ('fish_04', 'Amphiprion clarkii'),\n",
       " ('fish_10', 'Neoniphon sammara'),\n",
       " ('fish_01', 'Dascyllus reticulatus'),\n",
       " ('fish_01', 'Dascyllus reticulatus'),\n",
       " ('fish_01', 'Dascyllus reticulatus'),\n",
       " ('fish_03', 'Chromis chrysura'),\n",
       " ('fish_01', 'Dascyllus reticulatus'),\n",
       " ('fish_04', 'Amphiprion clarkii'),\n",
       " ('fish_04', 'Amphiprion clarkii'),\n",
       " ('fish_03', 'Chromis chrysura'),\n",
       " ('fish_04', 'Amphiprion clarkii'),\n",
       " ('fish_04', 'Amphiprion clarkii'),\n",
       " ('fish_02', 'Plectroglyphidodon dickii'),\n",
       " ('fish_06', 'Chaetodon trifascialis'),\n",
       " ('fish_01', 'Dascyllus reticulatus'),\n",
       " ('fish_06', 'Chaetodon trifascialis'),\n",
       " ('fish_03', 'Chromis chrysura'),\n",
       " ('fish_05', 'Chaetodon lunulatus'),\n",
       " ('fish_01', 'Dascyllus reticulatus'),\n",
       " ('fish_01', 'Dascyllus reticulatus'),\n",
       " ('fish_02', 'Plectroglyphidodon dickii'),\n",
       " ('fish_01', 'Dascyllus reticulatus'),\n",
       " ('fish_04', 'Amphiprion clarkii'),\n",
       " ('fish_01', 'Dascyllus reticulatus'),\n",
       " ('fish_01', 'Dascyllus reticulatus'),\n",
       " ('fish_01', 'Dascyllus reticulatus'),\n",
       " ('fish_01', 'Dascyllus reticulatus'),\n",
       " ('fish_04', 'Amphiprion clarkii'),\n",
       " ('fish_04', 'Amphiprion clarkii'),\n",
       " ('fish_03', 'Chromis chrysura'),\n",
       " ('fish_01', 'Dascyllus reticulatus'),\n",
       " ('fish_03', 'Chromis chrysura'),\n",
       " ('fish_03', 'Chromis chrysura'),\n",
       " ('fish_02', 'Plectroglyphidodon dickii'),\n",
       " ('fish_01', 'Dascyllus reticulatus'),\n",
       " ('fish_01', 'Dascyllus reticulatus'),\n",
       " ('fish_04', 'Amphiprion clarkii'),\n",
       " ('fish_04', 'Amphiprion clarkii'),\n",
       " ('fish_03', 'Chromis chrysura'),\n",
       " ('fish_01', 'Dascyllus reticulatus'),\n",
       " ('fish_01', 'Dascyllus reticulatus'),\n",
       " ('fish_07', 'Myripristis kuntee'),\n",
       " ('fish_05', 'Chaetodon lunulatus'),\n",
       " ('fish_01', 'Dascyllus reticulatus'),\n",
       " ('fish_01', 'Dascyllus reticulatus'),\n",
       " ('fish_04', 'Amphiprion clarkii'),\n",
       " ('fish_01', 'Dascyllus reticulatus'),\n",
       " ('fish_05', 'Chaetodon lunulatus'),\n",
       " ('fish_01', 'Dascyllus reticulatus'),\n",
       " ('fish_04', 'Amphiprion clarkii'),\n",
       " ('fish_01', 'Dascyllus reticulatus'),\n",
       " ('fish_01', 'Dascyllus reticulatus'),\n",
       " ('fish_04', 'Amphiprion clarkii'),\n",
       " ('fish_01', 'Dascyllus reticulatus'),\n",
       " ('fish_04', 'Amphiprion clarkii'),\n",
       " ('fish_05', 'Chaetodon lunulatus'),\n",
       " ('fish_01', 'Dascyllus reticulatus'),\n",
       " ('fish_04', 'Amphiprion clarkii'),\n",
       " ('fish_04', 'Amphiprion clarkii'),\n",
       " ('fish_01', 'Dascyllus reticulatus'),\n",
       " ('fish_04', 'Amphiprion clarkii'),\n",
       " ('fish_01', 'Dascyllus reticulatus'),\n",
       " ('fish_03', 'Chromis chrysura'),\n",
       " ('fish_01', 'Dascyllus reticulatus'),\n",
       " ('fish_02', 'Plectroglyphidodon dickii'),\n",
       " ('fish_10', 'Neoniphon sammara'),\n",
       " ('fish_03', 'Chromis chrysura'),\n",
       " ('fish_05', 'Chaetodon lunulatus'),\n",
       " ('fish_04', 'Amphiprion clarkii'),\n",
       " ('fish_04', 'Amphiprion clarkii'),\n",
       " ('fish_01', 'Dascyllus reticulatus'),\n",
       " ('fish_04', 'Amphiprion clarkii'),\n",
       " ('fish_01', 'Dascyllus reticulatus'),\n",
       " ('fish_02', 'Plectroglyphidodon dickii'),\n",
       " ('fish_02', 'Plectroglyphidodon dickii'),\n",
       " ('fish_01', 'Dascyllus reticulatus'),\n",
       " ('fish_05', 'Chaetodon lunulatus'),\n",
       " ('fish_01', 'Dascyllus reticulatus'),\n",
       " ('fish_01', 'Dascyllus reticulatus'),\n",
       " ('fish_01', 'Dascyllus reticulatus'),\n",
       " ('fish_05', 'Chaetodon lunulatus'),\n",
       " ('fish_01', 'Dascyllus reticulatus'),\n",
       " ('fish_02', 'Plectroglyphidodon dickii'),\n",
       " ('fish_01', 'Dascyllus reticulatus'),\n",
       " ('fish_04', 'Amphiprion clarkii'),\n",
       " ('fish_01', 'Dascyllus reticulatus'),\n",
       " ('fish_16', 'Lutjanus fulvus'),\n",
       " ('fish_04', 'Amphiprion clarkii'),\n",
       " ('fish_10', 'Neoniphon sammara'),\n",
       " ('fish_01', 'Dascyllus reticulatus'),\n",
       " ('fish_03', 'Chromis chrysura'),\n",
       " ('fish_04', 'Amphiprion clarkii'),\n",
       " ('fish_04', 'Amphiprion clarkii'),\n",
       " ('fish_01', 'Dascyllus reticulatus'),\n",
       " ('fish_04', 'Amphiprion clarkii'),\n",
       " ('fish_01', 'Dascyllus reticulatus'),\n",
       " ('fish_03', 'Chromis chrysura'),\n",
       " ('fish_03', 'Chromis chrysura'),\n",
       " ('fish_01', 'Dascyllus reticulatus'),\n",
       " ('fish_01', 'Dascyllus reticulatus'),\n",
       " ('fish_01', 'Dascyllus reticulatus'),\n",
       " ('fish_01', 'Dascyllus reticulatus'),\n",
       " ('fish_04', 'Amphiprion clarkii'),\n",
       " ('fish_01', 'Dascyllus reticulatus'),\n",
       " ('fish_01', 'Dascyllus reticulatus'),\n",
       " ('fish_01', 'Dascyllus reticulatus'),\n",
       " ('fish_01', 'Dascyllus reticulatus'),\n",
       " ('fish_03', 'Chromis chrysura'),\n",
       " ('fish_04', 'Amphiprion clarkii'),\n",
       " ('fish_10', 'Neoniphon sammara'),\n",
       " ('fish_01', 'Dascyllus reticulatus'),\n",
       " ('fish_01', 'Dascyllus reticulatus'),\n",
       " ('fish_04', 'Amphiprion clarkii'),\n",
       " ('fish_03', 'Chromis chrysura'),\n",
       " ('fish_03', 'Chromis chrysura'),\n",
       " ('fish_02', 'Plectroglyphidodon dickii'),\n",
       " ('fish_02', 'Plectroglyphidodon dickii'),\n",
       " ('fish_08', 'Acanthurus nigrofuscus'),\n",
       " ('fish_01', 'Dascyllus reticulatus'),\n",
       " ('fish_01', 'Dascyllus reticulatus'),\n",
       " ('fish_01', 'Dascyllus reticulatus'),\n",
       " ('fish_03', 'Chromis chrysura'),\n",
       " ('fish_01', 'Dascyllus reticulatus'),\n",
       " ('fish_01', 'Dascyllus reticulatus'),\n",
       " ('fish_10', 'Neoniphon sammara'),\n",
       " ('fish_01', 'Dascyllus reticulatus'),\n",
       " ('fish_01', 'Dascyllus reticulatus'),\n",
       " ('fish_01', 'Dascyllus reticulatus'),\n",
       " ('fish_10', 'Neoniphon sammara'),\n",
       " ('fish_04', 'Amphiprion clarkii'),\n",
       " ('fish_05', 'Chaetodon lunulatus'),\n",
       " ('fish_01', 'Dascyllus reticulatus'),\n",
       " ('fish_01', 'Dascyllus reticulatus'),\n",
       " ('fish_03', 'Chromis chrysura'),\n",
       " ('fish_01', 'Dascyllus reticulatus'),\n",
       " ('fish_03', 'Chromis chrysura'),\n",
       " ('fish_05', 'Chaetodon lunulatus'),\n",
       " ('fish_01', 'Dascyllus reticulatus'),\n",
       " ('fish_03', 'Chromis chrysura'),\n",
       " ('fish_01', 'Dascyllus reticulatus'),\n",
       " ('fish_01', 'Dascyllus reticulatus'),\n",
       " ('fish_01', 'Dascyllus reticulatus'),\n",
       " ('fish_01', 'Dascyllus reticulatus'),\n",
       " ('fish_01', 'Dascyllus reticulatus'),\n",
       " ('fish_01', 'Dascyllus reticulatus'),\n",
       " ('fish_05', 'Chaetodon lunulatus'),\n",
       " ('fish_01', 'Dascyllus reticulatus'),\n",
       " ('fish_05', 'Chaetodon lunulatus'),\n",
       " ('fish_01', 'Dascyllus reticulatus'),\n",
       " ('fish_04', 'Amphiprion clarkii'),\n",
       " ('fish_05', 'Chaetodon lunulatus'),\n",
       " ('fish_03', 'Chromis chrysura'),\n",
       " ('fish_05', 'Chaetodon lunulatus'),\n",
       " ('fish_02', 'Plectroglyphidodon dickii'),\n",
       " ('fish_04', 'Amphiprion clarkii'),\n",
       " ('fish_02', 'Plectroglyphidodon dickii'),\n",
       " ('fish_01', 'Dascyllus reticulatus'),\n",
       " ('fish_03', 'Chromis chrysura'),\n",
       " ('fish_01', 'Dascyllus reticulatus'),\n",
       " ('fish_04', 'Amphiprion clarkii'),\n",
       " ('fish_04', 'Amphiprion clarkii'),\n",
       " ('fish_01', 'Dascyllus reticulatus'),\n",
       " ('fish_01', 'Dascyllus reticulatus'),\n",
       " ('fish_01', 'Dascyllus reticulatus'),\n",
       " ('fish_02', 'Plectroglyphidodon dickii'),\n",
       " ('fish_04', 'Amphiprion clarkii'),\n",
       " ('fish_04', 'Amphiprion clarkii'),\n",
       " ('fish_03', 'Chromis chrysura'),\n",
       " ('fish_04', 'Amphiprion clarkii'),\n",
       " ('fish_01', 'Dascyllus reticulatus'),\n",
       " ('fish_03', 'Chromis chrysura'),\n",
       " ('fish_01', 'Dascyllus reticulatus'),\n",
       " ('fish_04', 'Amphiprion clarkii'),\n",
       " ('fish_01', 'Dascyllus reticulatus'),\n",
       " ('fish_02', 'Plectroglyphidodon dickii'),\n",
       " ('fish_01', 'Dascyllus reticulatus'),\n",
       " ('fish_05', 'Chaetodon lunulatus'),\n",
       " ('fish_03', 'Chromis chrysura'),\n",
       " ('fish_02', 'Plectroglyphidodon dickii'),\n",
       " ('fish_05', 'Chaetodon lunulatus'),\n",
       " ('fish_01', 'Dascyllus reticulatus'),\n",
       " ('fish_01', 'Dascyllus reticulatus'),\n",
       " ('fish_01', 'Dascyllus reticulatus'),\n",
       " ('fish_05', 'Chaetodon lunulatus'),\n",
       " ('fish_05', 'Chaetodon lunulatus'),\n",
       " ('fish_02', 'Plectroglyphidodon dickii'),\n",
       " ('fish_03', 'Chromis chrysura'),\n",
       " ('fish_05', 'Chaetodon lunulatus'),\n",
       " ('fish_04', 'Amphiprion clarkii'),\n",
       " ('fish_10', 'Neoniphon sammara'),\n",
       " ('fish_01', 'Dascyllus reticulatus'),\n",
       " ('fish_10', 'Neoniphon sammara'),\n",
       " ('fish_01', 'Dascyllus reticulatus'),\n",
       " ('fish_01', 'Dascyllus reticulatus'),\n",
       " ('fish_05', 'Chaetodon lunulatus'),\n",
       " ('fish_05', 'Chaetodon lunulatus'),\n",
       " ('fish_01', 'Dascyllus reticulatus'),\n",
       " ('fish_04', 'Amphiprion clarkii'),\n",
       " ('fish_03', 'Chromis chrysura'),\n",
       " ('fish_04', 'Amphiprion clarkii'),\n",
       " ('fish_04', 'Amphiprion clarkii'),\n",
       " ('fish_01', 'Dascyllus reticulatus'),\n",
       " ('fish_02', 'Plectroglyphidodon dickii'),\n",
       " ('fish_01', 'Dascyllus reticulatus'),\n",
       " ('fish_01', 'Dascyllus reticulatus'),\n",
       " ('fish_01', 'Dascyllus reticulatus'),\n",
       " ('fish_01', 'Dascyllus reticulatus'),\n",
       " ('fish_07', 'Myripristis kuntee'),\n",
       " ('fish_01', 'Dascyllus reticulatus'),\n",
       " ('fish_04', 'Amphiprion clarkii'),\n",
       " ('fish_05', 'Chaetodon lunulatus'),\n",
       " ('fish_01', 'Dascyllus reticulatus'),\n",
       " ('fish_04', 'Amphiprion clarkii'),\n",
       " ('fish_01', 'Dascyllus reticulatus'),\n",
       " ('fish_04', 'Amphiprion clarkii'),\n",
       " ('fish_04', 'Amphiprion clarkii'),\n",
       " ('fish_01', 'Dascyllus reticulatus'),\n",
       " ('fish_04', 'Amphiprion clarkii'),\n",
       " ('fish_10', 'Neoniphon sammara'),\n",
       " ('fish_03', 'Chromis chrysura'),\n",
       " ('fish_04', 'Amphiprion clarkii'),\n",
       " ('fish_03', 'Chromis chrysura'),\n",
       " ('fish_04', 'Amphiprion clarkii'),\n",
       " ('fish_03', 'Chromis chrysura'),\n",
       " ('fish_03', 'Chromis chrysura'),\n",
       " ('fish_05', 'Chaetodon lunulatus'),\n",
       " ('fish_01', 'Dascyllus reticulatus'),\n",
       " ('fish_01', 'Dascyllus reticulatus'),\n",
       " ('fish_03', 'Chromis chrysura'),\n",
       " ('fish_01', 'Dascyllus reticulatus'),\n",
       " ('fish_01', 'Dascyllus reticulatus'),\n",
       " ('fish_07', 'Myripristis kuntee'),\n",
       " ('fish_03', 'Chromis chrysura'),\n",
       " ('fish_04', 'Amphiprion clarkii'),\n",
       " ('fish_02', 'Plectroglyphidodon dickii'),\n",
       " ('fish_01', 'Dascyllus reticulatus'),\n",
       " ('fish_04', 'Amphiprion clarkii'),\n",
       " ('fish_01', 'Dascyllus reticulatus'),\n",
       " ('fish_01', 'Dascyllus reticulatus'),\n",
       " ('fish_01', 'Dascyllus reticulatus'),\n",
       " ('fish_01', 'Dascyllus reticulatus'),\n",
       " ('fish_01', 'Dascyllus reticulatus'),\n",
       " ('fish_01', 'Dascyllus reticulatus'),\n",
       " ('fish_04', 'Amphiprion clarkii'),\n",
       " ('fish_04', 'Amphiprion clarkii'),\n",
       " ('fish_01', 'Dascyllus reticulatus'),\n",
       " ('fish_04', 'Amphiprion clarkii'),\n",
       " ('fish_01', 'Dascyllus reticulatus'),\n",
       " ('fish_03', 'Chromis chrysura'),\n",
       " ('fish_01', 'Dascyllus reticulatus'),\n",
       " ('fish_04', 'Amphiprion clarkii'),\n",
       " ('fish_02', 'Plectroglyphidodon dickii'),\n",
       " ('fish_01', 'Dascyllus reticulatus'),\n",
       " ('fish_01', 'Dascyllus reticulatus'),\n",
       " ('fish_05', 'Chaetodon lunulatus'),\n",
       " ('fish_01', 'Dascyllus reticulatus'),\n",
       " ('fish_05', 'Chaetodon lunulatus'),\n",
       " ('fish_01', 'Dascyllus reticulatus'),\n",
       " ('fish_06', 'Chaetodon trifascialis'),\n",
       " ('fish_04', 'Amphiprion clarkii'),\n",
       " ('fish_01', 'Dascyllus reticulatus'),\n",
       " ('fish_03', 'Chromis chrysura'),\n",
       " ('fish_03', 'Chromis chrysura'),\n",
       " ('fish_04', 'Amphiprion clarkii'),\n",
       " ('fish_03', 'Chromis chrysura'),\n",
       " ('fish_02', 'Plectroglyphidodon dickii'),\n",
       " ('fish_04', 'Amphiprion clarkii'),\n",
       " ('fish_01', 'Dascyllus reticulatus'),\n",
       " ('fish_03', 'Chromis chrysura'),\n",
       " ('fish_01', 'Dascyllus reticulatus'),\n",
       " ('fish_01', 'Dascyllus reticulatus'),\n",
       " ('fish_03', 'Chromis chrysura'),\n",
       " ('fish_07', 'Myripristis kuntee'),\n",
       " ('fish_01', 'Dascyllus reticulatus'),\n",
       " ('fish_02', 'Plectroglyphidodon dickii'),\n",
       " ('fish_01', 'Dascyllus reticulatus'),\n",
       " ('fish_01', 'Dascyllus reticulatus'),\n",
       " ('fish_01', 'Dascyllus reticulatus'),\n",
       " ('fish_03', 'Chromis chrysura'),\n",
       " ('fish_03', 'Chromis chrysura'),\n",
       " ('fish_02', 'Plectroglyphidodon dickii'),\n",
       " ('fish_01', 'Dascyllus reticulatus'),\n",
       " ('fish_01', 'Dascyllus reticulatus'),\n",
       " ('fish_04', 'Amphiprion clarkii'),\n",
       " ('fish_01', 'Dascyllus reticulatus'),\n",
       " ('fish_05', 'Chaetodon lunulatus'),\n",
       " ('fish_05', 'Chaetodon lunulatus'),\n",
       " ('fish_01', 'Dascyllus reticulatus'),\n",
       " ('fish_01', 'Dascyllus reticulatus'),\n",
       " ('fish_05', 'Chaetodon lunulatus'),\n",
       " ('fish_01', 'Dascyllus reticulatus'),\n",
       " ('fish_01', 'Dascyllus reticulatus'),\n",
       " ('fish_01', 'Dascyllus reticulatus'),\n",
       " ('fish_04', 'Amphiprion clarkii'),\n",
       " ('fish_03', 'Chromis chrysura'),\n",
       " ('fish_01', 'Dascyllus reticulatus'),\n",
       " ('fish_10', 'Neoniphon sammara'),\n",
       " ('fish_01', 'Dascyllus reticulatus'),\n",
       " ('fish_04', 'Amphiprion clarkii'),\n",
       " ('fish_02', 'Plectroglyphidodon dickii'),\n",
       " ('fish_05', 'Chaetodon lunulatus'),\n",
       " ('fish_04', 'Amphiprion clarkii'),\n",
       " ('fish_01', 'Dascyllus reticulatus'),\n",
       " ('fish_05', 'Chaetodon lunulatus'),\n",
       " ('fish_04', 'Amphiprion clarkii'),\n",
       " ('fish_01', 'Dascyllus reticulatus'),\n",
       " ('fish_08', 'Acanthurus nigrofuscus'),\n",
       " ('fish_03', 'Chromis chrysura'),\n",
       " ('fish_01', 'Dascyllus reticulatus'),\n",
       " ('fish_04', 'Amphiprion clarkii'),\n",
       " ('fish_04', 'Amphiprion clarkii'),\n",
       " ('fish_05', 'Chaetodon lunulatus'),\n",
       " ('fish_01', 'Dascyllus reticulatus'),\n",
       " ('fish_01', 'Dascyllus reticulatus'),\n",
       " ('fish_02', 'Plectroglyphidodon dickii'),\n",
       " ('fish_01', 'Dascyllus reticulatus'),\n",
       " ('fish_01', 'Dascyllus reticulatus'),\n",
       " ('fish_01', 'Dascyllus reticulatus'),\n",
       " ('fish_01', 'Dascyllus reticulatus'),\n",
       " ('fish_02', 'Plectroglyphidodon dickii'),\n",
       " ('fish_01', 'Dascyllus reticulatus'),\n",
       " ('fish_01', 'Dascyllus reticulatus'),\n",
       " ('fish_02', 'Plectroglyphidodon dickii'),\n",
       " ('fish_01', 'Dascyllus reticulatus'),\n",
       " ('fish_01', 'Dascyllus reticulatus'),\n",
       " ('fish_05', 'Chaetodon lunulatus'),\n",
       " ('fish_05', 'Chaetodon lunulatus'),\n",
       " ('fish_01', 'Dascyllus reticulatus'),\n",
       " ('fish_03', 'Chromis chrysura'),\n",
       " ('fish_01', 'Dascyllus reticulatus'),\n",
       " ('fish_05', 'Chaetodon lunulatus'),\n",
       " ('fish_04', 'Amphiprion clarkii'),\n",
       " ('fish_01', 'Dascyllus reticulatus'),\n",
       " ('fish_01', 'Dascyllus reticulatus'),\n",
       " ('fish_03', 'Chromis chrysura'),\n",
       " ('fish_01', 'Dascyllus reticulatus'),\n",
       " ('fish_01', 'Dascyllus reticulatus'),\n",
       " ('fish_01', 'Dascyllus reticulatus'),\n",
       " ('fish_01', 'Dascyllus reticulatus'),\n",
       " ('fish_01', 'Dascyllus reticulatus'),\n",
       " ('fish_02', 'Plectroglyphidodon dickii'),\n",
       " ('fish_01', 'Dascyllus reticulatus'),\n",
       " ('fish_01', 'Dascyllus reticulatus'),\n",
       " ('fish_01', 'Dascyllus reticulatus'),\n",
       " ('fish_04', 'Amphiprion clarkii'),\n",
       " ('fish_04', 'Amphiprion clarkii'),\n",
       " ('fish_03', 'Chromis chrysura'),\n",
       " ('fish_01', 'Dascyllus reticulatus'),\n",
       " ('fish_01', 'Dascyllus reticulatus'),\n",
       " ('fish_01', 'Dascyllus reticulatus'),\n",
       " ('fish_02', 'Plectroglyphidodon dickii'),\n",
       " ('fish_05', 'Chaetodon lunulatus'),\n",
       " ('fish_03', 'Chromis chrysura'),\n",
       " ('fish_01', 'Dascyllus reticulatus'),\n",
       " ('fish_03', 'Chromis chrysura'),\n",
       " ('fish_04', 'Amphiprion clarkii'),\n",
       " ('fish_01', 'Dascyllus reticulatus'),\n",
       " ('fish_04', 'Amphiprion clarkii'),\n",
       " ('fish_01', 'Dascyllus reticulatus'),\n",
       " ('fish_01', 'Dascyllus reticulatus'),\n",
       " ('fish_07', 'Myripristis kuntee'),\n",
       " ('fish_06', 'Chaetodon trifascialis'),\n",
       " ('fish_04', 'Amphiprion clarkii'),\n",
       " ('fish_04', 'Amphiprion clarkii'),\n",
       " ('fish_05', 'Chaetodon lunulatus'),\n",
       " ('fish_04', 'Amphiprion clarkii'),\n",
       " ('fish_01', 'Dascyllus reticulatus'),\n",
       " ('fish_01', 'Dascyllus reticulatus'),\n",
       " ('fish_01', 'Dascyllus reticulatus'),\n",
       " ('fish_03', 'Chromis chrysura'),\n",
       " ('fish_02', 'Plectroglyphidodon dickii'),\n",
       " ('fish_01', 'Dascyllus reticulatus'),\n",
       " ('fish_02', 'Plectroglyphidodon dickii'),\n",
       " ('fish_01', 'Dascyllus reticulatus'),\n",
       " ('fish_01', 'Dascyllus reticulatus'),\n",
       " ('fish_01', 'Dascyllus reticulatus'),\n",
       " ('fish_02', 'Plectroglyphidodon dickii'),\n",
       " ('fish_04', 'Amphiprion clarkii'),\n",
       " ('fish_04', 'Amphiprion clarkii'),\n",
       " ('fish_04', 'Amphiprion clarkii'),\n",
       " ('fish_09', 'Hemigymnus fasciatus'),\n",
       " ('fish_01', 'Dascyllus reticulatus'),\n",
       " ('fish_02', 'Plectroglyphidodon dickii'),\n",
       " ('fish_01', 'Dascyllus reticulatus'),\n",
       " ('fish_01', 'Dascyllus reticulatus'),\n",
       " ('fish_04', 'Amphiprion clarkii'),\n",
       " ('fish_01', 'Dascyllus reticulatus'),\n",
       " ('fish_01', 'Dascyllus reticulatus'),\n",
       " ('fish_01', 'Dascyllus reticulatus'),\n",
       " ('fish_01', 'Dascyllus reticulatus'),\n",
       " ('fish_01', 'Dascyllus reticulatus'),\n",
       " ('fish_04', 'Amphiprion clarkii'),\n",
       " ('fish_01', 'Dascyllus reticulatus'),\n",
       " ('fish_01', 'Dascyllus reticulatus'),\n",
       " ('fish_01', 'Dascyllus reticulatus'),\n",
       " ('fish_01', 'Dascyllus reticulatus'),\n",
       " ('fish_02', 'Plectroglyphidodon dickii'),\n",
       " ('fish_01', 'Dascyllus reticulatus'),\n",
       " ('fish_01', 'Dascyllus reticulatus'),\n",
       " ('fish_02', 'Plectroglyphidodon dickii'),\n",
       " ('fish_01', 'Dascyllus reticulatus'),\n",
       " ('fish_02', 'Plectroglyphidodon dickii'),\n",
       " ('fish_03', 'Chromis chrysura'),\n",
       " ('fish_03', 'Chromis chrysura'),\n",
       " ('fish_04', 'Amphiprion clarkii'),\n",
       " ('fish_04', 'Amphiprion clarkii'),\n",
       " ('fish_01', 'Dascyllus reticulatus'),\n",
       " ('fish_01', 'Dascyllus reticulatus'),\n",
       " ('fish_01', 'Dascyllus reticulatus'),\n",
       " ('fish_01', 'Dascyllus reticulatus'),\n",
       " ('fish_01', 'Dascyllus reticulatus'),\n",
       " ('fish_01', 'Dascyllus reticulatus'),\n",
       " ('fish_03', 'Chromis chrysura'),\n",
       " ('fish_01', 'Dascyllus reticulatus'),\n",
       " ('fish_01', 'Dascyllus reticulatus'),\n",
       " ('fish_03', 'Chromis chrysura'),\n",
       " ('fish_01', 'Dascyllus reticulatus'),\n",
       " ('fish_03', 'Chromis chrysura'),\n",
       " ('fish_01', 'Dascyllus reticulatus'),\n",
       " ('fish_01', 'Dascyllus reticulatus'),\n",
       " ('fish_01', 'Dascyllus reticulatus'),\n",
       " ('fish_01', 'Dascyllus reticulatus'),\n",
       " ('fish_04', 'Amphiprion clarkii'),\n",
       " ('fish_01', 'Dascyllus reticulatus'),\n",
       " ('fish_01', 'Dascyllus reticulatus'),\n",
       " ('fish_01', 'Dascyllus reticulatus'),\n",
       " ('fish_01', 'Dascyllus reticulatus'),\n",
       " ('fish_01', 'Dascyllus reticulatus'),\n",
       " ('fish_04', 'Amphiprion clarkii'),\n",
       " ('fish_03', 'Chromis chrysura'),\n",
       " ('fish_03', 'Chromis chrysura'),\n",
       " ('fish_01', 'Dascyllus reticulatus'),\n",
       " ('fish_04', 'Amphiprion clarkii'),\n",
       " ('fish_04', 'Amphiprion clarkii'),\n",
       " ('fish_01', 'Dascyllus reticulatus'),\n",
       " ('fish_02', 'Plectroglyphidodon dickii'),\n",
       " ('fish_01', 'Dascyllus reticulatus'),\n",
       " ('fish_05', 'Chaetodon lunulatus'),\n",
       " ('fish_04', 'Amphiprion clarkii'),\n",
       " ('fish_04', 'Amphiprion clarkii'),\n",
       " ('fish_01', 'Dascyllus reticulatus'),\n",
       " ('fish_01', 'Dascyllus reticulatus'),\n",
       " ('fish_04', 'Amphiprion clarkii'),\n",
       " ('fish_01', 'Dascyllus reticulatus'),\n",
       " ('fish_02', 'Plectroglyphidodon dickii'),\n",
       " ('fish_01', 'Dascyllus reticulatus'),\n",
       " ('fish_04', 'Amphiprion clarkii'),\n",
       " ('fish_01', 'Dascyllus reticulatus'),\n",
       " ('fish_02', 'Plectroglyphidodon dickii'),\n",
       " ('fish_01', 'Dascyllus reticulatus'),\n",
       " ('fish_01', 'Dascyllus reticulatus'),\n",
       " ('fish_01', 'Dascyllus reticulatus'),\n",
       " ('fish_01', 'Dascyllus reticulatus'),\n",
       " ('fish_01', 'Dascyllus reticulatus'),\n",
       " ('fish_01', 'Dascyllus reticulatus'),\n",
       " ('fish_04', 'Amphiprion clarkii'),\n",
       " ('fish_01', 'Dascyllus reticulatus'),\n",
       " ('fish_01', 'Dascyllus reticulatus'),\n",
       " ('fish_03', 'Chromis chrysura'),\n",
       " ('fish_02', 'Plectroglyphidodon dickii'),\n",
       " ('fish_01', 'Dascyllus reticulatus'),\n",
       " ('fish_01', 'Dascyllus reticulatus'),\n",
       " ('fish_02', 'Plectroglyphidodon dickii'),\n",
       " ('fish_04', 'Amphiprion clarkii'),\n",
       " ('fish_01', 'Dascyllus reticulatus'),\n",
       " ('fish_02', 'Plectroglyphidodon dickii'),\n",
       " ('fish_01', 'Dascyllus reticulatus'),\n",
       " ('fish_02', 'Plectroglyphidodon dickii'),\n",
       " ('fish_04', 'Amphiprion clarkii'),\n",
       " ('fish_03', 'Chromis chrysura'),\n",
       " ('fish_02', 'Plectroglyphidodon dickii'),\n",
       " ('fish_05', 'Chaetodon lunulatus'),\n",
       " ('fish_01', 'Dascyllus reticulatus'),\n",
       " ('fish_01', 'Dascyllus reticulatus'),\n",
       " ('fish_01', 'Dascyllus reticulatus'),\n",
       " ('fish_02', 'Plectroglyphidodon dickii'),\n",
       " ('fish_10', 'Neoniphon sammara'),\n",
       " ('fish_03', 'Chromis chrysura'),\n",
       " ('fish_04', 'Amphiprion clarkii'),\n",
       " ('fish_04', 'Amphiprion clarkii'),\n",
       " ('fish_05', 'Chaetodon lunulatus'),\n",
       " ('fish_01', 'Dascyllus reticulatus'),\n",
       " ('fish_01', 'Dascyllus reticulatus'),\n",
       " ('fish_03', 'Chromis chrysura'),\n",
       " ('fish_01', 'Dascyllus reticulatus'),\n",
       " ('fish_01', 'Dascyllus reticulatus'),\n",
       " ('fish_01', 'Dascyllus reticulatus'),\n",
       " ('fish_10', 'Neoniphon sammara'),\n",
       " ('fish_01', 'Dascyllus reticulatus'),\n",
       " ('fish_01', 'Dascyllus reticulatus'),\n",
       " ('fish_01', 'Dascyllus reticulatus'),\n",
       " ('fish_01', 'Dascyllus reticulatus'),\n",
       " ('fish_03', 'Chromis chrysura'),\n",
       " ('fish_01', 'Dascyllus reticulatus'),\n",
       " ('fish_05', 'Chaetodon lunulatus'),\n",
       " ('fish_02', 'Plectroglyphidodon dickii'),\n",
       " ('fish_04', 'Amphiprion clarkii'),\n",
       " ('fish_01', 'Dascyllus reticulatus'),\n",
       " ('fish_07', 'Myripristis kuntee'),\n",
       " ('fish_02', 'Plectroglyphidodon dickii'),\n",
       " ('fish_10', 'Neoniphon sammara'),\n",
       " ('fish_03', 'Chromis chrysura'),\n",
       " ('fish_01', 'Dascyllus reticulatus'),\n",
       " ('fish_03', 'Chromis chrysura'),\n",
       " ('fish_01', 'Dascyllus reticulatus'),\n",
       " ('fish_07', 'Myripristis kuntee'),\n",
       " ('fish_01', 'Dascyllus reticulatus'),\n",
       " ('fish_01', 'Dascyllus reticulatus'),\n",
       " ('fish_05', 'Chaetodon lunulatus'),\n",
       " ('fish_04', 'Amphiprion clarkii'),\n",
       " ('fish_04', 'Amphiprion clarkii'),\n",
       " ('fish_01', 'Dascyllus reticulatus'),\n",
       " ('fish_02', 'Plectroglyphidodon dickii'),\n",
       " ('fish_01', 'Dascyllus reticulatus'),\n",
       " ('fish_05', 'Chaetodon lunulatus'),\n",
       " ('fish_02', 'Plectroglyphidodon dickii'),\n",
       " ('fish_03', 'Chromis chrysura'),\n",
       " ('fish_01', 'Dascyllus reticulatus'),\n",
       " ('fish_04', 'Amphiprion clarkii'),\n",
       " ('fish_01', 'Dascyllus reticulatus'),\n",
       " ('fish_16', 'Lutjanus fulvus'),\n",
       " ('fish_01', 'Dascyllus reticulatus'),\n",
       " ('fish_01', 'Dascyllus reticulatus'),\n",
       " ('fish_04', 'Amphiprion clarkii'),\n",
       " ('fish_02', 'Plectroglyphidodon dickii'),\n",
       " ('fish_03', 'Chromis chrysura'),\n",
       " ('fish_03', 'Chromis chrysura'),\n",
       " ('fish_01', 'Dascyllus reticulatus'),\n",
       " ('fish_01', 'Dascyllus reticulatus'),\n",
       " ('fish_01', 'Dascyllus reticulatus'),\n",
       " ('fish_04', 'Amphiprion clarkii'),\n",
       " ('fish_01', 'Dascyllus reticulatus'),\n",
       " ('fish_02', 'Plectroglyphidodon dickii'),\n",
       " ('fish_03', 'Chromis chrysura'),\n",
       " ('fish_01', 'Dascyllus reticulatus'),\n",
       " ('fish_05', 'Chaetodon lunulatus'),\n",
       " ('fish_04', 'Amphiprion clarkii'),\n",
       " ('fish_01', 'Dascyllus reticulatus'),\n",
       " ('fish_01', 'Dascyllus reticulatus'),\n",
       " ('fish_01', 'Dascyllus reticulatus'),\n",
       " ('fish_03', 'Chromis chrysura'),\n",
       " ('fish_01', 'Dascyllus reticulatus'),\n",
       " ('fish_02', 'Plectroglyphidodon dickii'),\n",
       " ('fish_02', 'Plectroglyphidodon dickii'),\n",
       " ('fish_05', 'Chaetodon lunulatus'),\n",
       " ('fish_04', 'Amphiprion clarkii'),\n",
       " ('fish_02', 'Plectroglyphidodon dickii'),\n",
       " ('fish_02', 'Plectroglyphidodon dickii'),\n",
       " ('fish_01', 'Dascyllus reticulatus'),\n",
       " ('fish_01', 'Dascyllus reticulatus'),\n",
       " ('fish_09', 'Hemigymnus fasciatus'),\n",
       " ('fish_01', 'Dascyllus reticulatus'),\n",
       " ('fish_02', 'Plectroglyphidodon dickii'),\n",
       " ('fish_01', 'Dascyllus reticulatus'),\n",
       " ('fish_01', 'Dascyllus reticulatus'),\n",
       " ('fish_01', 'Dascyllus reticulatus'),\n",
       " ('fish_01', 'Dascyllus reticulatus'),\n",
       " ('fish_02', 'Plectroglyphidodon dickii'),\n",
       " ('fish_05', 'Chaetodon lunulatus'),\n",
       " ('fish_04', 'Amphiprion clarkii'),\n",
       " ('fish_03', 'Chromis chrysura'),\n",
       " ('fish_01', 'Dascyllus reticulatus'),\n",
       " ('fish_01', 'Dascyllus reticulatus'),\n",
       " ('fish_02', 'Plectroglyphidodon dickii'),\n",
       " ('fish_01', 'Dascyllus reticulatus'),\n",
       " ('fish_01', 'Dascyllus reticulatus'),\n",
       " ('fish_01', 'Dascyllus reticulatus'),\n",
       " ('fish_01', 'Dascyllus reticulatus'),\n",
       " ('fish_01', 'Dascyllus reticulatus'),\n",
       " ('fish_01', 'Dascyllus reticulatus'),\n",
       " ('fish_04', 'Amphiprion clarkii'),\n",
       " ('fish_10', 'Neoniphon sammara'),\n",
       " ('fish_01', 'Dascyllus reticulatus'),\n",
       " ('fish_03', 'Chromis chrysura'),\n",
       " ('fish_05', 'Chaetodon lunulatus'),\n",
       " ('fish_02', 'Plectroglyphidodon dickii'),\n",
       " ('fish_05', 'Chaetodon lunulatus'),\n",
       " ('fish_01', 'Dascyllus reticulatus'),\n",
       " ('fish_01', 'Dascyllus reticulatus'),\n",
       " ('fish_01', 'Dascyllus reticulatus'),\n",
       " ('fish_04', 'Amphiprion clarkii'),\n",
       " ('fish_04', 'Amphiprion clarkii'),\n",
       " ('fish_02', 'Plectroglyphidodon dickii'),\n",
       " ('fish_02', 'Plectroglyphidodon dickii'),\n",
       " ('fish_03', 'Chromis chrysura'),\n",
       " ('fish_01', 'Dascyllus reticulatus'),\n",
       " ('fish_03', 'Chromis chrysura'),\n",
       " ('fish_04', 'Amphiprion clarkii'),\n",
       " ('fish_05', 'Chaetodon lunulatus'),\n",
       " ('fish_01', 'Dascyllus reticulatus'),\n",
       " ('fish_01', 'Dascyllus reticulatus'),\n",
       " ('fish_01', 'Dascyllus reticulatus'),\n",
       " ('fish_01', 'Dascyllus reticulatus'),\n",
       " ('fish_04', 'Amphiprion clarkii'),\n",
       " ('fish_01', 'Dascyllus reticulatus'),\n",
       " ('fish_01', 'Dascyllus reticulatus'),\n",
       " ('fish_04', 'Amphiprion clarkii'),\n",
       " ('fish_01', 'Dascyllus reticulatus'),\n",
       " ('fish_03', 'Chromis chrysura'),\n",
       " ('fish_03', 'Chromis chrysura'),\n",
       " ('fish_01', 'Dascyllus reticulatus'),\n",
       " ('fish_02', 'Plectroglyphidodon dickii'),\n",
       " ('fish_01', 'Dascyllus reticulatus'),\n",
       " ('fish_01', 'Dascyllus reticulatus'),\n",
       " ('fish_03', 'Chromis chrysura'),\n",
       " ('fish_03', 'Chromis chrysura'),\n",
       " ('fish_01', 'Dascyllus reticulatus'),\n",
       " ('fish_01', 'Dascyllus reticulatus'),\n",
       " ('fish_02', 'Plectroglyphidodon dickii'),\n",
       " ('fish_01', 'Dascyllus reticulatus'),\n",
       " ('fish_01', 'Dascyllus reticulatus'),\n",
       " ('fish_03', 'Chromis chrysura'),\n",
       " ('fish_02', 'Plectroglyphidodon dickii'),\n",
       " ('fish_03', 'Chromis chrysura'),\n",
       " ('fish_01', 'Dascyllus reticulatus'),\n",
       " ('fish_03', 'Chromis chrysura'),\n",
       " ('fish_05', 'Chaetodon lunulatus'),\n",
       " ('fish_01', 'Dascyllus reticulatus'),\n",
       " ('fish_01', 'Dascyllus reticulatus'),\n",
       " ('fish_05', 'Chaetodon lunulatus'),\n",
       " ('fish_04', 'Amphiprion clarkii'),\n",
       " ('fish_01', 'Dascyllus reticulatus'),\n",
       " ('fish_01', 'Dascyllus reticulatus'),\n",
       " ('fish_01', 'Dascyllus reticulatus'),\n",
       " ('fish_01', 'Dascyllus reticulatus'),\n",
       " ('fish_01', 'Dascyllus reticulatus'),\n",
       " ('fish_01', 'Dascyllus reticulatus'),\n",
       " ('fish_01', 'Dascyllus reticulatus'),\n",
       " ('fish_05', 'Chaetodon lunulatus'),\n",
       " ('fish_06', 'Chaetodon trifascialis'),\n",
       " ('fish_01', 'Dascyllus reticulatus'),\n",
       " ('fish_04', 'Amphiprion clarkii'),\n",
       " ('fish_04', 'Amphiprion clarkii'),\n",
       " ('fish_04', 'Amphiprion clarkii'),\n",
       " ('fish_02', 'Plectroglyphidodon dickii'),\n",
       " ('fish_04', 'Amphiprion clarkii'),\n",
       " ('fish_03', 'Chromis chrysura'),\n",
       " ('fish_02', 'Plectroglyphidodon dickii'),\n",
       " ('fish_01', 'Dascyllus reticulatus'),\n",
       " ('fish_04', 'Amphiprion clarkii'),\n",
       " ('fish_02', 'Plectroglyphidodon dickii'),\n",
       " ('fish_02', 'Plectroglyphidodon dickii'),\n",
       " ('fish_02', 'Plectroglyphidodon dickii'),\n",
       " ('fish_05', 'Chaetodon lunulatus'),\n",
       " ('fish_01', 'Dascyllus reticulatus'),\n",
       " ('fish_01', 'Dascyllus reticulatus'),\n",
       " ('fish_01', 'Dascyllus reticulatus'),\n",
       " ('fish_01', 'Dascyllus reticulatus'),\n",
       " ('fish_01', 'Dascyllus reticulatus'),\n",
       " ('fish_03', 'Chromis chrysura'),\n",
       " ('fish_01', 'Dascyllus reticulatus'),\n",
       " ('fish_01', 'Dascyllus reticulatus'),\n",
       " ('fish_05', 'Chaetodon lunulatus'),\n",
       " ('fish_05', 'Chaetodon lunulatus'),\n",
       " ('fish_07', 'Myripristis kuntee'),\n",
       " ('fish_01', 'Dascyllus reticulatus'),\n",
       " ('fish_01', 'Dascyllus reticulatus'),\n",
       " ('fish_01', 'Dascyllus reticulatus'),\n",
       " ('fish_01', 'Dascyllus reticulatus'),\n",
       " ('fish_01', 'Dascyllus reticulatus'),\n",
       " ('fish_01', 'Dascyllus reticulatus'),\n",
       " ('fish_01', 'Dascyllus reticulatus'),\n",
       " ('fish_10', 'Neoniphon sammara'),\n",
       " ('fish_01', 'Dascyllus reticulatus'),\n",
       " ('fish_03', 'Chromis chrysura'),\n",
       " ('fish_01', 'Dascyllus reticulatus'),\n",
       " ('fish_07', 'Myripristis kuntee'),\n",
       " ('fish_04', 'Amphiprion clarkii'),\n",
       " ('fish_05', 'Chaetodon lunulatus'),\n",
       " ('fish_05', 'Chaetodon lunulatus'),\n",
       " ('fish_01', 'Dascyllus reticulatus'),\n",
       " ('fish_05', 'Chaetodon lunulatus'),\n",
       " ('fish_02', 'Plectroglyphidodon dickii'),\n",
       " ('fish_01', 'Dascyllus reticulatus'),\n",
       " ('fish_08', 'Acanthurus nigrofuscus'),\n",
       " ('fish_02', 'Plectroglyphidodon dickii'),\n",
       " ('fish_02', 'Plectroglyphidodon dickii'),\n",
       " ('fish_03', 'Chromis chrysura'),\n",
       " ('fish_05', 'Chaetodon lunulatus'),\n",
       " ('fish_01', 'Dascyllus reticulatus'),\n",
       " ('fish_01', 'Dascyllus reticulatus'),\n",
       " ('fish_01', 'Dascyllus reticulatus'),\n",
       " ('fish_01', 'Dascyllus reticulatus'),\n",
       " ('fish_04', 'Amphiprion clarkii'),\n",
       " ('fish_05', 'Chaetodon lunulatus'),\n",
       " ('fish_01', 'Dascyllus reticulatus'),\n",
       " ('fish_05', 'Chaetodon lunulatus'),\n",
       " ('fish_01', 'Dascyllus reticulatus'),\n",
       " ('fish_01', 'Dascyllus reticulatus'),\n",
       " ('fish_01', 'Dascyllus reticulatus'),\n",
       " ('fish_01', 'Dascyllus reticulatus'),\n",
       " ('fish_03', 'Chromis chrysura'),\n",
       " ('fish_04', 'Amphiprion clarkii'),\n",
       " ('fish_01', 'Dascyllus reticulatus'),\n",
       " ('fish_05', 'Chaetodon lunulatus'),\n",
       " ('fish_03', 'Chromis chrysura'),\n",
       " ('fish_03', 'Chromis chrysura'),\n",
       " ('fish_04', 'Amphiprion clarkii'),\n",
       " ('fish_05', 'Chaetodon lunulatus'),\n",
       " ('fish_01', 'Dascyllus reticulatus'),\n",
       " ('fish_02', 'Plectroglyphidodon dickii'),\n",
       " ('fish_05', 'Chaetodon lunulatus'),\n",
       " ('fish_05', 'Chaetodon lunulatus'),\n",
       " ('fish_01', 'Dascyllus reticulatus'),\n",
       " ('fish_02', 'Plectroglyphidodon dickii'),\n",
       " ('fish_04', 'Amphiprion clarkii'),\n",
       " ('fish_01', 'Dascyllus reticulatus'),\n",
       " ('fish_04', 'Amphiprion clarkii'),\n",
       " ('fish_01', 'Dascyllus reticulatus'),\n",
       " ('fish_03', 'Chromis chrysura'),\n",
       " ('fish_01', 'Dascyllus reticulatus'),\n",
       " ('fish_01', 'Dascyllus reticulatus'),\n",
       " ('fish_03', 'Chromis chrysura'),\n",
       " ('fish_02', 'Plectroglyphidodon dickii'),\n",
       " ('fish_03', 'Chromis chrysura'),\n",
       " ('fish_01', 'Dascyllus reticulatus'),\n",
       " ('fish_02', 'Plectroglyphidodon dickii'),\n",
       " ('fish_05', 'Chaetodon lunulatus'),\n",
       " ('fish_05', 'Chaetodon lunulatus'),\n",
       " ('fish_03', 'Chromis chrysura'),\n",
       " ('fish_01', 'Dascyllus reticulatus'),\n",
       " ('fish_10', 'Neoniphon sammara'),\n",
       " ('fish_01', 'Dascyllus reticulatus'),\n",
       " ('fish_01', 'Dascyllus reticulatus'),\n",
       " ('fish_03', 'Chromis chrysura'),\n",
       " ('fish_01', 'Dascyllus reticulatus'),\n",
       " ('fish_01', 'Dascyllus reticulatus'),\n",
       " ('fish_01', 'Dascyllus reticulatus'),\n",
       " ('fish_03', 'Chromis chrysura'),\n",
       " ('fish_04', 'Amphiprion clarkii'),\n",
       " ('fish_02', 'Plectroglyphidodon dickii'),\n",
       " ('fish_07', 'Myripristis kuntee'),\n",
       " ('fish_04', 'Amphiprion clarkii'),\n",
       " ('fish_04', 'Amphiprion clarkii'),\n",
       " ('fish_03', 'Chromis chrysura'),\n",
       " ('fish_01', 'Dascyllus reticulatus'),\n",
       " ('fish_02', 'Plectroglyphidodon dickii'),\n",
       " ('fish_01', 'Dascyllus reticulatus'),\n",
       " ('fish_01', 'Dascyllus reticulatus'),\n",
       " ('fish_04', 'Amphiprion clarkii'),\n",
       " ('fish_01', 'Dascyllus reticulatus'),\n",
       " ('fish_16', 'Lutjanus fulvus'),\n",
       " ('fish_09', 'Hemigymnus fasciatus'),\n",
       " ('fish_04', 'Amphiprion clarkii'),\n",
       " ('fish_03', 'Chromis chrysura'),\n",
       " ('fish_01', 'Dascyllus reticulatus'),\n",
       " ('fish_01', 'Dascyllus reticulatus'),\n",
       " ('fish_05', 'Chaetodon lunulatus'),\n",
       " ('fish_04', 'Amphiprion clarkii'),\n",
       " ('fish_01', 'Dascyllus reticulatus'),\n",
       " ('fish_03', 'Chromis chrysura'),\n",
       " ('fish_01', 'Dascyllus reticulatus'),\n",
       " ('fish_03', 'Chromis chrysura'),\n",
       " ('fish_03', 'Chromis chrysura'),\n",
       " ('fish_04', 'Amphiprion clarkii'),\n",
       " ('fish_01', 'Dascyllus reticulatus'),\n",
       " ('fish_05', 'Chaetodon lunulatus'),\n",
       " ('fish_01', 'Dascyllus reticulatus'),\n",
       " ('fish_01', 'Dascyllus reticulatus'),\n",
       " ('fish_05', 'Chaetodon lunulatus'),\n",
       " ('fish_01', 'Dascyllus reticulatus'),\n",
       " ('fish_01', 'Dascyllus reticulatus'),\n",
       " ('fish_01', 'Dascyllus reticulatus'),\n",
       " ('fish_02', 'Plectroglyphidodon dickii'),\n",
       " ('fish_03', 'Chromis chrysura'),\n",
       " ('fish_01', 'Dascyllus reticulatus'),\n",
       " ('fish_01', 'Dascyllus reticulatus'),\n",
       " ('fish_04', 'Amphiprion clarkii'),\n",
       " ('fish_07', 'Myripristis kuntee'),\n",
       " ('fish_02', 'Plectroglyphidodon dickii'),\n",
       " ('fish_01', 'Dascyllus reticulatus'),\n",
       " ('fish_03', 'Chromis chrysura'),\n",
       " ('fish_05', 'Chaetodon lunulatus'),\n",
       " ('fish_04', 'Amphiprion clarkii'),\n",
       " ('fish_01', 'Dascyllus reticulatus'),\n",
       " ('fish_05', 'Chaetodon lunulatus'),\n",
       " ('fish_01', 'Dascyllus reticulatus'),\n",
       " ('fish_01', 'Dascyllus reticulatus'),\n",
       " ('fish_05', 'Chaetodon lunulatus'),\n",
       " ('fish_04', 'Amphiprion clarkii'),\n",
       " ('fish_01', 'Dascyllus reticulatus'),\n",
       " ('fish_01', 'Dascyllus reticulatus'),\n",
       " ('fish_02', 'Plectroglyphidodon dickii'),\n",
       " ('fish_04', 'Amphiprion clarkii'),\n",
       " ('fish_04', 'Amphiprion clarkii'),\n",
       " ('fish_03', 'Chromis chrysura'),\n",
       " ('fish_01', 'Dascyllus reticulatus'),\n",
       " ('fish_01', 'Dascyllus reticulatus'),\n",
       " ('fish_07', 'Myripristis kuntee'),\n",
       " ('fish_02', 'Plectroglyphidodon dickii'),\n",
       " ('fish_06', 'Chaetodon trifascialis'),\n",
       " ('fish_03', 'Chromis chrysura'),\n",
       " ('fish_01', 'Dascyllus reticulatus'),\n",
       " ('fish_02', 'Plectroglyphidodon dickii'),\n",
       " ('fish_08', 'Acanthurus nigrofuscus'),\n",
       " ('fish_02', 'Plectroglyphidodon dickii'),\n",
       " ('fish_03', 'Chromis chrysura'),\n",
       " ('fish_04', 'Amphiprion clarkii'),\n",
       " ('fish_04', 'Amphiprion clarkii'),\n",
       " ('fish_03', 'Chromis chrysura'),\n",
       " ('fish_01', 'Dascyllus reticulatus'),\n",
       " ('fish_01', 'Dascyllus reticulatus'),\n",
       " ('fish_01', 'Dascyllus reticulatus'),\n",
       " ('fish_05', 'Chaetodon lunulatus'),\n",
       " ('fish_01', 'Dascyllus reticulatus'),\n",
       " ('fish_04', 'Amphiprion clarkii'),\n",
       " ('fish_02', 'Plectroglyphidodon dickii'),\n",
       " ('fish_06', 'Chaetodon trifascialis'),\n",
       " ('fish_04', 'Amphiprion clarkii'),\n",
       " ('fish_05', 'Chaetodon lunulatus'),\n",
       " ('fish_02', 'Plectroglyphidodon dickii'),\n",
       " ('fish_04', 'Amphiprion clarkii'),\n",
       " ('fish_01', 'Dascyllus reticulatus'),\n",
       " ('fish_01', 'Dascyllus reticulatus'),\n",
       " ('fish_01', 'Dascyllus reticulatus'),\n",
       " ('fish_01', 'Dascyllus reticulatus'),\n",
       " ('fish_05', 'Chaetodon lunulatus'),\n",
       " ('fish_03', 'Chromis chrysura'),\n",
       " ('fish_03', 'Chromis chrysura'),\n",
       " ('fish_03', 'Chromis chrysura'),\n",
       " ('fish_01', 'Dascyllus reticulatus'),\n",
       " ('fish_01', 'Dascyllus reticulatus'),\n",
       " ('fish_01', 'Dascyllus reticulatus'),\n",
       " ('fish_03', 'Chromis chrysura'),\n",
       " ('fish_03', 'Chromis chrysura'),\n",
       " ('fish_01', 'Dascyllus reticulatus'),\n",
       " ('fish_05', 'Chaetodon lunulatus'),\n",
       " ('fish_02', 'Plectroglyphidodon dickii'),\n",
       " ('fish_05', 'Chaetodon lunulatus'),\n",
       " ('fish_01', 'Dascyllus reticulatus'),\n",
       " ('fish_01', 'Dascyllus reticulatus'),\n",
       " ('fish_07', 'Myripristis kuntee'),\n",
       " ('fish_04', 'Amphiprion clarkii'),\n",
       " ('fish_04', 'Amphiprion clarkii'),\n",
       " ('fish_01', 'Dascyllus reticulatus'),\n",
       " ('fish_05', 'Chaetodon lunulatus'),\n",
       " ('fish_04', 'Amphiprion clarkii'),\n",
       " ('fish_01', 'Dascyllus reticulatus'),\n",
       " ('fish_04', 'Amphiprion clarkii'),\n",
       " ('fish_01', 'Dascyllus reticulatus'),\n",
       " ('fish_01', 'Dascyllus reticulatus'),\n",
       " ('fish_01', 'Dascyllus reticulatus'),\n",
       " ('fish_01', 'Dascyllus reticulatus'),\n",
       " ('fish_01', 'Dascyllus reticulatus'),\n",
       " ('fish_10', 'Neoniphon sammara'),\n",
       " ('fish_01', 'Dascyllus reticulatus'),\n",
       " ('fish_04', 'Amphiprion clarkii'),\n",
       " ('fish_01', 'Dascyllus reticulatus'),\n",
       " ('fish_03', 'Chromis chrysura'),\n",
       " ('fish_01', 'Dascyllus reticulatus'),\n",
       " ('fish_04', 'Amphiprion clarkii'),\n",
       " ('fish_05', 'Chaetodon lunulatus'),\n",
       " ('fish_16', 'Lutjanus fulvus'),\n",
       " ('fish_04', 'Amphiprion clarkii'),\n",
       " ('fish_04', 'Amphiprion clarkii'),\n",
       " ('fish_01', 'Dascyllus reticulatus'),\n",
       " ('fish_04', 'Amphiprion clarkii'),\n",
       " ('fish_01', 'Dascyllus reticulatus'),\n",
       " ('fish_03', 'Chromis chrysura'),\n",
       " ('fish_01', 'Dascyllus reticulatus'),\n",
       " ('fish_03', 'Chromis chrysura'),\n",
       " ('fish_04', 'Amphiprion clarkii'),\n",
       " ('fish_01', 'Dascyllus reticulatus'),\n",
       " ('fish_01', 'Dascyllus reticulatus'),\n",
       " ('fish_03', 'Chromis chrysura'),\n",
       " ('fish_05', 'Chaetodon lunulatus'),\n",
       " ('fish_01', 'Dascyllus reticulatus'),\n",
       " ('fish_01', 'Dascyllus reticulatus'),\n",
       " ('fish_03', 'Chromis chrysura'),\n",
       " ('fish_01', 'Dascyllus reticulatus'),\n",
       " ('fish_05', 'Chaetodon lunulatus'),\n",
       " ('fish_03', 'Chromis chrysura'),\n",
       " ('fish_01', 'Dascyllus reticulatus'),\n",
       " ('fish_08', 'Acanthurus nigrofuscus'),\n",
       " ('fish_03', 'Chromis chrysura'),\n",
       " ...]"
      ]
     },
     "execution_count": 50,
     "metadata": {},
     "output_type": "execute_result"
    }
   ],
   "source": [
    "fishs = names_mapping(y_test)\n",
    "fishs"
   ]
  },
  {
   "cell_type": "markdown",
   "metadata": {},
   "source": [
    "# RESHAPING DATAS"
   ]
  },
  {
   "cell_type": "markdown",
   "metadata": {},
   "source": [
    "### TRAIN/TEST SPLIT FROM GET DATA"
   ]
  },
  {
   "cell_type": "code",
   "execution_count": 9,
   "metadata": {},
   "outputs": [
    {
     "ename": "NameError",
     "evalue": "name 'get_data' is not defined",
     "output_type": "error",
     "traceback": [
      "\u001b[1;31m---------------------------------------------------------------------------\u001b[0m",
      "\u001b[1;31mNameError\u001b[0m                                 Traceback (most recent call last)",
      "\u001b[1;32m<ipython-input-9-25895f82e1c2>\u001b[0m in \u001b[0;36m<module>\u001b[1;34m\u001b[0m\n\u001b[1;32m----> 1\u001b[1;33m \u001b[0mX_train\u001b[0m\u001b[1;33m,\u001b[0m \u001b[0mX_test\u001b[0m\u001b[1;33m,\u001b[0m \u001b[0my_train\u001b[0m\u001b[1;33m,\u001b[0m \u001b[0my_test\u001b[0m \u001b[1;33m=\u001b[0m \u001b[0mget_data\u001b[0m\u001b[1;33m(\u001b[0m\u001b[1;33m)\u001b[0m\u001b[1;33m\u001b[0m\u001b[1;33m\u001b[0m\u001b[0m\n\u001b[0m",
      "\u001b[1;31mNameError\u001b[0m: name 'get_data' is not defined"
     ]
    }
   ],
   "source": [
    "X_train, X_test, y_train, y_test = get_data()"
   ]
  },
  {
   "cell_type": "code",
   "execution_count": 60,
   "metadata": {},
   "outputs": [
    {
     "name": "stdout",
     "output_type": "stream",
     "text": [
      "Found 253 images belonging to 10 classes.\n"
     ]
    }
   ],
   "source": [
    "X, y = get_data_test()"
   ]
  },
  {
   "cell_type": "code",
   "execution_count": 53,
   "metadata": {
    "scrolled": true
   },
   "outputs": [
    {
     "data": {
      "text/plain": [
       "((253, 32, 32, 3), (253,))"
      ]
     },
     "execution_count": 53,
     "metadata": {},
     "output_type": "execute_result"
    }
   ],
   "source": [
    "X_test_2.shape, y_test_2.shape"
   ]
  },
  {
   "cell_type": "markdown",
   "metadata": {},
   "source": [
    "### CHECK SHAPES"
   ]
  },
  {
   "cell_type": "code",
   "execution_count": 15,
   "metadata": {},
   "outputs": [
    {
     "data": {
      "text/plain": [
       "((4565, 128, 128, 3), (4565,), (392, 128, 128, 3), (392,))"
      ]
     },
     "execution_count": 15,
     "metadata": {},
     "output_type": "execute_result"
    }
   ],
   "source": [
    "X_train.shape, y_train.shape, X_test.shape, y_test.shape"
   ]
  },
  {
   "cell_type": "markdown",
   "metadata": {},
   "source": [
    "### RESHAPE X_TRAIN and X_TEST"
   ]
  },
  {
   "cell_type": "code",
   "execution_count": 16,
   "metadata": {},
   "outputs": [],
   "source": [
    "X_train_reshaped = np.reshape(X_train, (X_train.shape[0], X_train.shape[1]*X_train.shape[1]*X_train.shape[3] )) # (32*32*3 = 3072)"
   ]
  },
  {
   "cell_type": "code",
   "execution_count": 56,
   "metadata": {},
   "outputs": [],
   "source": [
    "X_test_reshaped = np.reshape(X_test, (X_test.shape[0], 3072))"
   ]
  },
  {
   "cell_type": "code",
   "execution_count": 57,
   "metadata": {},
   "outputs": [],
   "source": [
    "X_test_2_reshaped = np.reshape(X_test_2, (X_test_2.shape[0], 3072))"
   ]
  },
  {
   "cell_type": "markdown",
   "metadata": {},
   "source": [
    "# BASELINE MODEL"
   ]
  },
  {
   "cell_type": "markdown",
   "metadata": {},
   "source": [
    "### MODEL INSTANCING"
   ]
  },
  {
   "cell_type": "code",
   "execution_count": 20,
   "metadata": {},
   "outputs": [],
   "source": [
    "logreg = LogisticRegression( C  = 0.01, n_jobs=-1, multi_class='multinomial', solver='lbfgs')"
   ]
  },
  {
   "cell_type": "markdown",
   "metadata": {},
   "source": [
    "### MODEL FITTING"
   ]
  },
  {
   "cell_type": "code",
   "execution_count": 21,
   "metadata": {
    "scrolled": true
   },
   "outputs": [
    {
     "data": {
      "text/plain": [
       "LogisticRegression(C=0.01, class_weight=None, dual=False, fit_intercept=True,\n",
       "          intercept_scaling=1, max_iter=100, multi_class='multinomial',\n",
       "          n_jobs=-1, penalty='l2', random_state=None, solver='lbfgs',\n",
       "          tol=0.0001, verbose=0, warm_start=False)"
      ]
     },
     "execution_count": 21,
     "metadata": {},
     "output_type": "execute_result"
    }
   ],
   "source": [
    "logreg.fit(X_train_reshaped, y_train)"
   ]
  },
  {
   "cell_type": "markdown",
   "metadata": {},
   "source": [
    "### SCORE THE MODEL"
   ]
  },
  {
   "cell_type": "code",
   "execution_count": 22,
   "metadata": {},
   "outputs": [
    {
     "data": {
      "text/plain": [
       "0.43735105982691586"
      ]
     },
     "execution_count": 22,
     "metadata": {},
     "output_type": "execute_result"
    }
   ],
   "source": [
    "logreg.score(X_test_reshaped, y_test)"
   ]
  },
  {
   "cell_type": "code",
   "execution_count": 23,
   "metadata": {},
   "outputs": [
    {
     "data": {
      "text/plain": [
       "0.06719367588932806"
      ]
     },
     "execution_count": 23,
     "metadata": {},
     "output_type": "execute_result"
    }
   ],
   "source": [
    "logreg.score(X_test_2_reshaped, y_test_2)"
   ]
  },
  {
   "cell_type": "code",
   "execution_count": 23,
   "metadata": {},
   "outputs": [],
   "source": [
    "y_predict = logreg.predict(X_test_reshaped)"
   ]
  },
  {
   "cell_type": "markdown",
   "metadata": {},
   "source": [
    "### GET THE MISCLASSIFIED PICTURES"
   ]
  },
  {
   "cell_type": "code",
   "execution_count": 39,
   "metadata": {},
   "outputs": [],
   "source": [
    "index = 0\n",
    "misclassifiedIndexes = []\n",
    "for label, predict in zip(y_test, y_predict):\n",
    "    if label != predict: \n",
    "        misclassifiedIndexes.append(index)\n",
    "    index += 1"
   ]
  },
  {
   "cell_type": "code",
   "execution_count": 41,
   "metadata": {
    "scrolled": true
   },
   "outputs": [
    {
     "data": {
      "image/png": "[encoded data removed]",
      "text/plain": [
       "<Figure size 1440x288 with 5 Axes>"
      ]
     },
     "metadata": {
      "needs_background": "light"
     },
     "output_type": "display_data"
    }
   ],
   "source": [
    "plt.figure(figsize=(20,4))\n",
    "for plotIndex, badIndex in enumerate(misclassifiedIndexes[0:5]):\n",
    "    plt.subplot(1, 5, plotIndex + 1)\n",
    "    plt.imshow(np.reshape(X_test_reshaped[badIndex], (32,32,3)))\n",
    "    plt.title('Predicted: {}, Actual: {}'.format(y_predict[badIndex], y_test[badIndex]), fontsize = 15)"
   ]
  },
  {
   "cell_type": "markdown",
   "metadata": {},
   "source": [
    "# FIRST STEPS ML MODEL == SVC"
   ]
  },
  {
   "cell_type": "markdown",
   "metadata": {},
   "source": [
    "### SCALING FOR SVC"
   ]
  },
  {
   "cell_type": "code",
   "execution_count": 66,
   "metadata": {},
   "outputs": [],
   "source": [
    "X_train, X_test, y_train, y_test = train_test_split(X, y, test_size = 0.3, random_state = 1) "
   ]
  },
  {
   "cell_type": "code",
   "execution_count": 71,
   "metadata": {},
   "outputs": [],
   "source": [
    "X_train_reshaped = np.reshape(X_train, (X_train.shape[0], 3072))\n",
    "X_test_reshaped = np.reshape(X_test, (X_test.shape[0], 3072))"
   ]
  },
  {
   "cell_type": "code",
   "execution_count": 72,
   "metadata": {},
   "outputs": [],
   "source": [
    "mmscaler = MinMaxScaler()"
   ]
  },
  {
   "cell_type": "code",
   "execution_count": 74,
   "metadata": {},
   "outputs": [
    {
     "name": "stderr",
     "output_type": "stream",
     "text": [
      "c:\\users\\dany\\.venvs\\lewagon\\lib\\site-packages\\sklearn\\utils\\validation.py:595: DataConversionWarning: Data with input dtype int32 was converted to float64 by MinMaxScaler.\n",
      "  warnings.warn(msg, DataConversionWarning)\n"
     ]
    },
    {
     "data": {
      "text/plain": [
       "MinMaxScaler(copy=True, feature_range=(0, 1))"
      ]
     },
     "execution_count": 74,
     "metadata": {},
     "output_type": "execute_result"
    }
   ],
   "source": [
    "mmscaler.fit(X_train_reshaped)"
   ]
  },
  {
   "cell_type": "code",
   "execution_count": 75,
   "metadata": {
    "scrolled": true
   },
   "outputs": [],
   "source": [
    "X_train_scaled = mmscaler.transform(X_train_reshaped)"
   ]
  },
  {
   "cell_type": "code",
   "execution_count": 120,
   "metadata": {},
   "outputs": [],
   "source": [
    "X_test_scaled = mmscaler.transform(X_test_reshaped)"
   ]
  },
  {
   "cell_type": "markdown",
   "metadata": {},
   "source": [
    "### TRAINING SVC MODEL"
   ]
  },
  {
   "cell_type": "code",
   "execution_count": 18,
   "metadata": {},
   "outputs": [],
   "source": [
    "from sklearn.model_selection import GridSearchCV"
   ]
  },
  {
   "cell_type": "code",
   "execution_count": 26,
   "metadata": {},
   "outputs": [],
   "source": [
    "svc_model = SVC(gamma='scale', kernel='rbf')"
   ]
  },
  {
   "cell_type": "code",
   "execution_count": 27,
   "metadata": {},
   "outputs": [
    {
     "data": {
      "text/plain": [
       "SVC(C=1.0, cache_size=200, class_weight=None, coef0=0.0,\n",
       "  decision_function_shape='ovr', degree=3, gamma='scale', kernel='rbf',\n",
       "  max_iter=-1, probability=False, random_state=None, shrinking=True,\n",
       "  tol=0.001, verbose=False)"
      ]
     },
     "execution_count": 27,
     "metadata": {},
     "output_type": "execute_result"
    }
   ],
   "source": [
    "svc_model.fit(X_train_reshaped, y_train)"
   ]
  },
  {
   "cell_type": "code",
   "execution_count": 28,
   "metadata": {},
   "outputs": [],
   "source": [
    "X_test_reshaped = np.reshape(X_test, (X_test.shape[0], X_test.shape[1]*X_test.shape[1]*X_train.shape[3] ))"
   ]
  },
  {
   "cell_type": "code",
   "execution_count": 29,
   "metadata": {},
   "outputs": [
    {
     "data": {
      "text/plain": [
       "0.40816326530612246"
      ]
     },
     "execution_count": 29,
     "metadata": {},
     "output_type": "execute_result"
    }
   ],
   "source": [
    "svc_model.score(X_test_reshaped, y_test)"
   ]
  },
  {
   "cell_type": "code",
   "execution_count": 16,
   "metadata": {},
   "outputs": [],
   "source": [
    "#param_grid = { \"C\" : [1,10,15], \"kernel\" : [\"linear\", \"rbf\", \"poly\", \"sigmoid\"]}"
   ]
  },
  {
   "cell_type": "code",
   "execution_count": 24,
   "metadata": {},
   "outputs": [],
   "source": [
    "#svcgrid = GridSearchCV(estimator = svc_model,\n",
    "                       #param_grid = param_grid,\n",
    "                      #cv = 5,\n",
    "                      #n_jobs = -1,\n",
    "                      #scoring = 'accuracy')"
   ]
  },
  {
   "cell_type": "code",
   "execution_count": null,
   "metadata": {},
   "outputs": [],
   "source": [
    "svcgrid.fit(X_train_reshaped, y_train)"
   ]
  },
  {
   "cell_type": "code",
   "execution_count": 137,
   "metadata": {},
   "outputs": [
    {
     "data": {
      "text/plain": [
       "SVC(C=1, cache_size=200, class_weight=None, coef0=0.0,\n",
       "  decision_function_shape='ovr', degree=3, gamma='scale', kernel='linear',\n",
       "  max_iter=-1, probability=False, random_state=None, shrinking=True,\n",
       "  tol=0.001, verbose=False)"
      ]
     },
     "execution_count": 137,
     "metadata": {},
     "output_type": "execute_result"
    }
   ],
   "source": [
    "svcgrid.best_estimator_"
   ]
  },
  {
   "cell_type": "code",
   "execution_count": 138,
   "metadata": {},
   "outputs": [
    {
     "data": {
      "text/plain": [
       "0.4576271186440678"
      ]
     },
     "execution_count": 138,
     "metadata": {},
     "output_type": "execute_result"
    }
   ],
   "source": [
    "svcgrid.best_score_"
   ]
  },
  {
   "cell_type": "code",
   "execution_count": 139,
   "metadata": {},
   "outputs": [],
   "source": [
    "best_svc = svcgrid.best_estimator_"
   ]
  },
  {
   "cell_type": "code",
   "execution_count": 140,
   "metadata": {},
   "outputs": [
    {
     "data": {
      "text/plain": [
       "0.3815789473684211"
      ]
     },
     "execution_count": 140,
     "metadata": {},
     "output_type": "execute_result"
    }
   ],
   "source": [
    "best_svc.score(X_test_scaled, y_test)"
   ]
  },
  {
   "cell_type": "code",
   "execution_count": 141,
   "metadata": {},
   "outputs": [],
   "source": [
    "from sklearn.metrics import classification_report"
   ]
  },
  {
   "cell_type": "code",
   "execution_count": 143,
   "metadata": {},
   "outputs": [],
   "source": [
    "y_pred = best_svc.predict(X_test_scaled)"
   ]
  },
  {
   "cell_type": "code",
   "execution_count": 155,
   "metadata": {},
   "outputs": [],
   "source": [
    "fishnames = [\"Dascyllus reticulatus\",\n",
    "             \"Plectroglyphidodon dickii\",\n",
    "             \"Chromis chrysura\",\n",
    "             \"Amphiprion clarkii\",\n",
    "             \"Chaetodon lunulatus\",\n",
    "             #\"Chaetodon trifascialis\",\n",
    "             \"Myripristis kuntee\",\n",
    "             \"Acanthurus nigrofuscus\",\n",
    "             \"Hemigymnus fasciatus\",\n",
    "             \"Neoniphon sammara\",\n",
    "             \"Lutjanus fulvus\", \n",
    "             \"Scolopsis bilineata\"]"
   ]
  },
  {
   "cell_type": "code",
   "execution_count": 156,
   "metadata": {},
   "outputs": [],
   "source": [
    "svc_report = classification_report(y_test, y_pred, target_names = fishnames)"
   ]
  },
  {
   "cell_type": "code",
   "execution_count": 157,
   "metadata": {
    "scrolled": false
   },
   "outputs": [
    {
     "name": "stdout",
     "output_type": "stream",
     "text": [
      "                           precision    recall  f1-score   support\n",
      "\n",
      "    Dascyllus reticulatus       0.17      0.17      0.17         6\n",
      "Plectroglyphidodon dickii       0.00      0.00      0.00        10\n",
      "         Chromis chrysura       0.44      0.80      0.57         5\n",
      "       Amphiprion clarkii       0.60      0.60      0.60         5\n",
      "      Chaetodon lunulatus       0.40      0.57      0.47         7\n",
      "       Myripristis kuntee       0.21      0.43      0.29         7\n",
      "   Acanthurus nigrofuscus       0.21      0.43      0.29         7\n",
      "     Hemigymnus fasciatus       0.88      0.54      0.67        13\n",
      "        Neoniphon sammara       0.33      0.12      0.18         8\n",
      "          Lutjanus fulvus       0.60      0.38      0.46         8\n",
      "\n",
      "                micro avg       0.38      0.38      0.38        76\n",
      "                macro avg       0.38      0.40      0.37        76\n",
      "             weighted avg       0.41      0.38      0.37        76\n",
      "\n"
     ]
    }
   ],
   "source": [
    "print(svc_report)"
   ]
  },
  {
   "cell_type": "markdown",
   "metadata": {},
   "source": [
    "### MISSCLASSIFIED PICTURES  OF FISH CATEGORIE 1"
   ]
  },
  {
   "cell_type": "code",
   "execution_count": 179,
   "metadata": {},
   "outputs": [
    {
     "data": {
      "image/png": "[encoded data removed]",
      "text/plain": [
       "<Figure size 1440x288 with 5 Axes>"
      ]
     },
     "metadata": {
      "needs_background": "light"
     },
     "output_type": "display_data"
    }
   ],
   "source": [
    "indexes = [i for i, y in enumerate(y_test) if y == 1]\n",
    "missclassified_cat1 = [ y_pred[ind] for ind in indexes ]\n",
    "plt.figure(figsize=(20, 4))\n",
    "for i, j  in enumerate(indexes[5:10]):\n",
    "    plt.subplot(1, 5, i + 1)\n",
    "    plt.imshow(np.reshape(X_test_reshaped[j], (32,32,3)))\n",
    "    plt.title('Predicted: {}, Actual: {}'.format(y_pred[j], y_test[j]), fontsize = 15)"
   ]
  },
  {
   "cell_type": "markdown",
   "metadata": {},
   "source": [
    "# SGD CLASSIFIER"
   ]
  },
  {
   "cell_type": "code",
   "execution_count": 30,
   "metadata": {},
   "outputs": [],
   "source": [
    "sgd_model = SGDClassifier(max_iter=1000)"
   ]
  },
  {
   "cell_type": "code",
   "execution_count": 212,
   "metadata": {},
   "outputs": [],
   "source": [
    "sgd_param_grid = {\"loss\": [\"hinge\",\"log\"], \"penalty\" : [\"l2\", \"l1\", \"elasticnet\"], \"alpha\" : [0.01, 0.001, 0.0001] }"
   ]
  },
  {
   "cell_type": "code",
   "execution_count": 213,
   "metadata": {},
   "outputs": [],
   "source": [
    "sgd_gridsearch = GridSearchCV(estimator = sgd_model,\n",
    "                              param_grid = sgd_param_grid, cv = 10,\n",
    "                              n_jobs = -1,\n",
    "                              scoring = 'accuracy',\n",
    "                              verbose = True)"
   ]
  },
  {
   "cell_type": "code",
   "execution_count": 214,
   "metadata": {},
   "outputs": [
    {
     "name": "stdout",
     "output_type": "stream",
     "text": [
      "Fitting 10 folds for each of 18 candidates, totalling 180 fits\n"
     ]
    },
    {
     "name": "stderr",
     "output_type": "stream",
     "text": [
      "[Parallel(n_jobs=-1)]: Using backend LokyBackend with 12 concurrent workers.\n",
      "[Parallel(n_jobs=-1)]: Done  26 tasks      | elapsed:  1.1min\n",
      "[Parallel(n_jobs=-1)]: Done 180 out of 180 | elapsed:  9.9min finished\n",
      "c:\\users\\dany\\.venvs\\lewagon\\lib\\site-packages\\sklearn\\model_selection\\_search.py:842: DeprecationWarning: The default of the `iid` parameter will change from True to False in version 0.22 and will be removed in 0.24. This will change numeric results when test-set sizes are unequal.\n",
      "  DeprecationWarning)\n",
      "c:\\users\\dany\\.venvs\\lewagon\\lib\\site-packages\\sklearn\\linear_model\\stochastic_gradient.py:183: FutureWarning: max_iter and tol parameters have been added in SGDClassifier in 0.19. If max_iter is set but tol is left unset, the default value for tol in 0.19 and 0.20 will be None (which is equivalent to -infinity, so it has no effect) but will change in 0.21 to 1e-3. Specify tol to silence this warning.\n",
      "  FutureWarning)\n"
     ]
    },
    {
     "data": {
      "text/plain": [
       "GridSearchCV(cv=10, error_score='raise-deprecating',\n",
       "       estimator=SGDClassifier(alpha=0.0001, average=False, class_weight=None,\n",
       "       early_stopping=False, epsilon=0.1, eta0=0.0, fit_intercept=True,\n",
       "       l1_ratio=0.15, learning_rate='optimal', loss='hinge', max_iter=1000,\n",
       "       n_iter=None, n_iter_no_change=5, n_jobs=None, penalty='l2',\n",
       "       power_t=0.5, random_state=None, shuffle=True, tol=None,\n",
       "       validation_fraction=0.1, verbose=0, warm_start=False),\n",
       "       fit_params=None, iid='warn', n_jobs=-1,\n",
       "       param_grid={'loss': ['hinge', 'log'], 'penalty': ['l2', 'l1', 'elasticnet'], 'alpha': [0.01, 0.001, 0.0001]},\n",
       "       pre_dispatch='2*n_jobs', refit=True, return_train_score='warn',\n",
       "       scoring='accuracy', verbose=True)"
      ]
     },
     "execution_count": 214,
     "metadata": {},
     "output_type": "execute_result"
    }
   ],
   "source": [
    "sgd_gridsearch.fit(X_train_scaled, y_train)"
   ]
  },
  {
   "cell_type": "code",
   "execution_count": 215,
   "metadata": {},
   "outputs": [
    {
     "data": {
      "text/plain": [
       "0.4971751412429379"
      ]
     },
     "execution_count": 215,
     "metadata": {},
     "output_type": "execute_result"
    }
   ],
   "source": [
    "sgd_gridsearch.best_score_"
   ]
  },
  {
   "cell_type": "code",
   "execution_count": 218,
   "metadata": {
    "scrolled": true
   },
   "outputs": [
    {
     "data": {
      "text/plain": [
       "SGDClassifier(alpha=0.01, average=False, class_weight=None,\n",
       "       early_stopping=False, epsilon=0.1, eta0=0.0, fit_intercept=True,\n",
       "       l1_ratio=0.15, learning_rate='optimal', loss='log', max_iter=1000,\n",
       "       n_iter=None, n_iter_no_change=5, n_jobs=None, penalty='l2',\n",
       "       power_t=0.5, random_state=None, shuffle=True, tol=None,\n",
       "       validation_fraction=0.1, verbose=0, warm_start=False)"
      ]
     },
     "execution_count": 218,
     "metadata": {},
     "output_type": "execute_result"
    }
   ],
   "source": [
    "sgd_gridsearch.best_estimator_"
   ]
  },
  {
   "cell_type": "code",
   "execution_count": 216,
   "metadata": {},
   "outputs": [],
   "source": [
    "sgd_best = sgd_gridsearch.best_estimator_"
   ]
  },
  {
   "cell_type": "code",
   "execution_count": 217,
   "metadata": {},
   "outputs": [
    {
     "data": {
      "text/plain": [
       "0.35526315789473684"
      ]
     },
     "execution_count": 217,
     "metadata": {},
     "output_type": "execute_result"
    }
   ],
   "source": [
    "sgd_best.score(X_test_scaled, y_test)"
   ]
  },
  {
   "cell_type": "markdown",
   "metadata": {},
   "source": [
    "# SET UP CUSTOM METRIC"
   ]
  },
  {
   "cell_type": "code",
   "execution_count": null,
   "metadata": {},
   "outputs": [],
   "source": []
  },
  {
   "cell_type": "markdown",
   "metadata": {},
   "source": [
    "# KNN CLASSIFIER"
   ]
  },
  {
   "cell_type": "code",
   "execution_count": null,
   "metadata": {},
   "outputs": [],
   "source": [
    "from sklean.neighbors import KNeighborsClassifier"
   ]
  },
  {
   "cell_type": "code",
   "execution_count": null,
   "metadata": {},
   "outputs": [],
   "source": [
    "knn_model = KNeighborsClassifier(n_jobs=-1)"
   ]
  },
  {
   "cell_type": "code",
   "execution_count": null,
   "metadata": {},
   "outputs": [],
   "source": [
    "knn_param_grid = {\"n_neighbors\" : [2, 5, 10, 15],\n",
    "                  \"p\" : [1, 2], \n",
    "                  \"algorithm\": [\"auto\", \"ball_tree\", \"kd_tree\", \"brute\"]}"
   ]
  },
  {
   "cell_type": "code",
   "execution_count": null,
   "metadata": {},
   "outputs": [],
   "source": [
    "knn_gridsearch = GridSearchCV(estimator = knn_model,\n",
    "                              param_grid = knn_param_grid, cv = 5,\n",
    "                              n_jobs = -1,\n",
    "                              scoring = 'accuracy',\n",
    "                              verbose = 1)"
   ]
  },
  {
   "cell_type": "code",
   "execution_count": null,
   "metadata": {},
   "outputs": [],
   "source": [
    "knn_report = classification_report(y_test, y_pred, target_names = fishnames)"
   ]
  },
  {
   "cell_type": "code",
   "execution_count": null,
   "metadata": {},
   "outputs": [],
   "source": []
  },
  {
   "cell_type": "code",
   "execution_count": null,
   "metadata": {},
   "outputs": [],
   "source": []
  },
  {
   "cell_type": "markdown",
   "metadata": {},
   "source": [
    "# RANDOM FOREST CLASSIFIER"
   ]
  },
  {
   "cell_type": "code",
   "execution_count": null,
   "metadata": {},
   "outputs": [],
   "source": [
    "from sklearn.ensemble import RandomForestClassifier"
   ]
  },
  {
   "cell_type": "code",
   "execution_count": null,
   "metadata": {},
   "outputs": [],
   "source": [
    "rfc_model = RandomForestClassifier(n_jobs=-1)"
   ]
  },
  {
   "cell_type": "code",
   "execution_count": null,
   "metadata": {},
   "outputs": [],
   "source": [
    "rfc_param_grid = {\"n_estimators\": [100, 150, 250],\n",
    "                  \"max_depth\": [2, 3, 4, 7],\n",
    "                  \"min_samples_split\" : [2, 5, 10, 15]}"
   ]
  },
  {
   "cell_type": "code",
   "execution_count": null,
   "metadata": {},
   "outputs": [],
   "source": [
    "rfc_gridsearch = GridSearchCV(estimator = rfc_model,\n",
    "                              param_grid = rfc_param_grid, cv = 5,\n",
    "                              n_jobs = -1,\n",
    "                              scoring = 'accuracy',\n",
    "                              verbose = 1)"
   ]
  },
  {
   "cell_type": "code",
   "execution_count": null,
   "metadata": {},
   "outputs": [],
   "source": [
    "rfc_report = classification_report(y_test, y_pred, target_names = fishnames)"
   ]
  },
  {
   "cell_type": "code",
   "execution_count": null,
   "metadata": {},
   "outputs": [],
   "source": []
  },
  {
   "cell_type": "code",
   "execution_count": null,
   "metadata": {},
   "outputs": [],
   "source": []
  }
 ],
 "metadata": {
  "kernelspec": {
   "display_name": "Python 3",
   "language": "python",
   "name": "python3"
  },
  "language_info": {
   "codemirror_mode": {
    "name": "ipython",
    "version": 3
   },
   "file_extension": ".py",
   "mimetype": "text/x-python",
   "name": "python",
   "nbconvert_exporter": "python",
   "pygments_lexer": "ipython3",
   "version": "3.7.7"
  }
 },
 "nbformat": 4,
 "nbformat_minor": 4
}
