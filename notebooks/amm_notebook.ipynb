{
 "cells": [
  {
   "cell_type": "code",
   "execution_count": 1,
   "metadata": {},
   "outputs": [],
   "source": [
    "import os\n",
    "import pathlib\n",
    "import numpy as np\n"
   ]
  },
  {
   "cell_type": "code",
   "execution_count": null,
   "metadata": {},
   "outputs": [],
   "source": [
    "from tensorflow.keras.preprocessing.image import ImageDataGenerator\n",
    "data_dir = pathlib.Path('/path/to/images/')\n",
    "# The 1./255 is to convert from uint8 to float32 in range [0,1]. image_generator = ImageDataGenerator(rescale=1./255)\n",
    "# Set constants\n",
    "BATCH_SIZE = 2000\n",
    "IMG_HEIGHT = 128 # pixels\n",
    "IMG_WIDTH = 128 # pixels\n",
    "STEPS_PER_EPOCH = np.ceil(image_count/BATCH_SIZE) # for Deep Learning CLASS_NAMES = np.array(['cats','dogs']) # Match folder names\n",
    "# Build dataset\n",
    "train_data_gen = image_generator.flow_from_directory(\n",
    "directory=str(data_dir), batch_size=BATCH_SIZE,\n",
    "shuffle=True, target_size=(IMG_HEIGHT, IMG_WIDTH), classes = list(CLASS_NAMES))\n",
    "# Extract images and target\n",
    "\n"
   ]
  }
 ],
 "metadata": {
  "kernelspec": {
   "display_name": "Python 3",
   "language": "python",
   "name": "python3"
  },
  "language_info": {
   "codemirror_mode": {
    "name": "ipython",
    "version": 3
   },
   "file_extension": ".py",
   "mimetype": "text/x-python",
   "name": "python",
   "nbconvert_exporter": "python",
   "pygments_lexer": "ipython3",
   "version": "3.7.7"
  },
  "toc": {
   "base_numbering": 1,
   "nav_menu": {},
   "number_sections": false,
   "sideBar": true,
   "skip_h1_title": false,
   "title_cell": "Table of Contents",
   "title_sidebar": "Contents",
   "toc_cell": false,
   "toc_position": {},
   "toc_section_display": true,
   "toc_window_display": false
  }
 },
 "nbformat": 4,
 "nbformat_minor": 4
}
