{
 "cells": [
  {
   "cell_type": "markdown",
   "metadata": {},
   "source": [
    "# Imports"
   ]
  },
  {
   "cell_type": "code",
   "execution_count": 1,
   "metadata": {},
   "outputs": [],
   "source": [
    "#import tensorflow\n",
    "#import matplotlib.pyplot as plt\n",
    "from tensorflow.keras.callbacks import EarlyStopping\n",
    "from tensorflow.keras.preprocessing.image import DirectoryIterator,ImageDataGenerator\n",
    "from sklearn.model_selection import train_test_split\n",
    "import numpy as np\n",
    "import os"
   ]
  },
  {
   "cell_type": "markdown",
   "metadata": {},
   "source": [
    "# Get data"
   ]
  },
  {
   "cell_type": "markdown",
   "metadata": {
    "heading_collapsed": true
   },
   "source": [
    "## without augmentation"
   ]
  },
  {
   "cell_type": "code",
   "execution_count": null,
   "metadata": {
    "hidden": true
   },
   "outputs": [],
   "source": [
    "def get_data(val_split = False, val_size = 0.3):\n",
    "    '''Cette fonction parcourt le dossier contenant les images de départ et les renvoie,\n",
    "    en uniformisant les tailles, sous forme de nd-arrays NumPy. La fonction exécute\n",
    "    aussi un train_test_split qui distingue un dataset d'entraînement (70% des images)\n",
    "    et un dataset de test (30% des images). '''\n",
    "    path = '../catchafish/data'\n",
    "    batch_size = 100000\n",
    "\n",
    "    dir_iterator = DirectoryIterator(directory = path,\n",
    "                                     image_data_generator = None,\n",
    "                                     target_size = (128, 128),\n",
    "                                     batch_size = batch_size,\n",
    "                                     shuffle = False,\n",
    "                                     dtype = int)\n",
    "\n",
    "    X = dir_iterator[0][0]\n",
    "    y = dir_iterator.labels\n",
    "\n",
    "    X_train, X_test, y_train, y_test = train_test_split(X, y, test_size = 0.3, random_state = 1)\n",
    "\n",
    "    if val_split:\n",
    "        X_train, X_val, y_train, y_val = train_test_split(X_train, y_train, test_size = val_size)\n",
    "        return X_train, X_val, X_test, y_train, y_val, y_test\n",
    "    else:\n",
    "        return X_train, X_test, y_train, y_test"
   ]
  },
  {
   "cell_type": "code",
   "execution_count": null,
   "metadata": {
    "hidden": true
   },
   "outputs": [],
   "source": [
    "X_train, X_test, y_train, y_test = get_data()"
   ]
  },
  {
   "cell_type": "markdown",
   "metadata": {},
   "source": [
    "## with augmentation"
   ]
  },
  {
   "cell_type": "code",
   "execution_count": 2,
   "metadata": {},
   "outputs": [
    {
     "name": "stdout",
     "output_type": "stream",
     "text": [
      "Found 1305 images belonging to 11 classes.\n"
     ]
    },
    {
     "name": "stderr",
     "output_type": "stream",
     "text": [
      "/home/lilahammer/.pyenv/versions/3.7.7/envs/lewagon/lib/python3.7/site-packages/PIL/Image.py:960: UserWarning: Palette images with Transparency expressed in bytes should be converted to RGBA images\n",
      "  \"Palette images with Transparency expressed in bytes should be \"\n"
     ]
    }
   ],
   "source": [
    "zca_whitening = True\n",
    "path = '../catchafish/data'\n",
    "batch_size = 1500\n",
    "dir_iterator = DirectoryIterator(directory = path, \n",
    "                                 image_data_generator = None,\n",
    "                                 target_size = (128, 128),\n",
    "                                 batch_size = batch_size,\n",
    "                                 shuffle = False,\n",
    "                                 dtype = int)\n",
    "X = dir_iterator[0][0] / 255\n",
    "y = dir_iterator.labels\n",
    "X_train, X_test, y_train, y_test = train_test_split(X, y, test_size = 0.3, random_state = 1)\n"
   ]
  },
  {
   "cell_type": "code",
   "execution_count": 3,
   "metadata": {},
   "outputs": [],
   "source": [
    "image_data_generator = ImageDataGenerator( \n",
    "                                          rotation_range = 45,\n",
    "                                          width_shift_range = 0.5, \n",
    "                                          height_shift_range = 0.5, \n",
    "                                          shear_range = 0.3, \n",
    "                                          zoom_range = 0.5, \n",
    "                                          horizontal_flip = True,\n",
    "                                        vertical_flip = True,\n",
    "                                          fill_mode = 'nearest',\n",
    "                                            featurewise_center=True,\n",
    "                                     featurewise_std_normalization=True,\n",
    "                                     )\n",
    "if zca_whitening:\n",
    "    image_data_generator.fit(X_train)\n"
   ]
  },
  {
   "cell_type": "code",
   "execution_count": 4,
   "metadata": {},
   "outputs": [
    {
     "data": {
      "text/plain": [
       "(913, 128, 128, 3)"
      ]
     },
     "execution_count": 4,
     "metadata": {},
     "output_type": "execute_result"
    }
   ],
   "source": [
    "X_train.shape"
   ]
  },
  {
   "cell_type": "code",
   "execution_count": 5,
   "metadata": {},
   "outputs": [],
   "source": [
    "extended_output = []\n",
    "for images in image_data_generator.flow(X_train, y_train, batch_size = batch_size):\n",
    "    extended_output.append(images)\n",
    "    if len(extended_output) == 5:\n",
    "        break\n",
    "X_train = extended_output[0][0]\n",
    "y_train = extended_output[0][1]\n",
    "for data_tuple in extended_output[1:]:\n",
    "    X_train = np.concatenate((X_train, data_tuple[0]), axis = 0)\n",
    "    y_train = np.concatenate((y_train, data_tuple[1]), axis = 0)"
   ]
  },
  {
   "cell_type": "code",
   "execution_count": 6,
   "metadata": {},
   "outputs": [
    {
     "data": {
      "text/plain": [
       "(4565, 128, 128, 3)"
      ]
     },
     "execution_count": 6,
     "metadata": {},
     "output_type": "execute_result"
    }
   ],
   "source": [
    "X_train.shape"
   ]
  },
  {
   "cell_type": "markdown",
   "metadata": {},
   "source": [
    "## y to categorical"
   ]
  },
  {
   "cell_type": "code",
   "execution_count": 7,
   "metadata": {},
   "outputs": [],
   "source": [
    "from tensorflow.keras.utils import to_categorical\n",
    "y_train = to_categorical(y_train, 11)\n",
    "y_test = to_categorical(y_test, 11)"
   ]
  },
  {
   "cell_type": "code",
   "execution_count": 8,
   "metadata": {},
   "outputs": [
    {
     "data": {
      "text/plain": [
       "(4565, 11)"
      ]
     },
     "execution_count": 8,
     "metadata": {},
     "output_type": "execute_result"
    }
   ],
   "source": [
    "y_train.shape"
   ]
  },
  {
   "cell_type": "markdown",
   "metadata": {},
   "source": [
    "## def model"
   ]
  },
  {
   "cell_type": "code",
   "execution_count": 13,
   "metadata": {},
   "outputs": [],
   "source": [
    "from __future__ import print_function\n",
    "from tensorflow import keras\n",
    "from tensorflow.keras.preprocessing.image import ImageDataGenerator\n",
    "from tensorflow.keras.models import Sequential\n",
    "from tensorflow.keras.layers import Dense, Dropout, Activation, Flatten\n",
    "from tensorflow.keras.layers import Conv2D, MaxPooling2D\n",
    "import os\n",
    "\n",
    "def build_model():\n",
    "    model = Sequential()\n",
    "    model.add(Conv2D(32, (5, 5), padding='same', input_shape=(128, 128, 3), activation='relu'))\n",
    "    model.add(MaxPooling2D(pool_size=(2, 2)))\n",
    "    model.add(Dropout(0.25))\n",
    "    model.add(Conv2D(32, (3, 3), padding='same', activation='relu'))\n",
    "    model.add(MaxPooling2D(pool_size=(3, 3)))\n",
    "    model.add(Dropout(0.25))\n",
    "    model.add(Conv2D(64, (3, 3), padding='same', activation='relu'))\n",
    "    model.add(MaxPooling2D(pool_size=(3, 3)))\n",
    "    model.add(Dropout(0.25))\n",
    "    model.add(Conv2D(64, (3, 3), padding='same', activation='relu'))\n",
    "    model.add(MaxPooling2D(pool_size=(3, 3)))\n",
    "    model.add(Dropout(0.25))\n",
    "    model.add(Flatten())\n",
    "    model.add(Dense(40, activation='relu'))\n",
    "    model.add(Dense(11, activation='softmax'))\n",
    "    \n",
    "    return model"
   ]
  },
  {
   "cell_type": "code",
   "execution_count": 14,
   "metadata": {},
   "outputs": [
    {
     "name": "stdout",
     "output_type": "stream",
     "text": [
      "Model: \"sequential_2\"\n",
      "_________________________________________________________________\n",
      "Layer (type)                 Output Shape              Param #   \n",
      "=================================================================\n",
      "conv2d_9 (Conv2D)            (None, 128, 128, 32)      2432      \n",
      "_________________________________________________________________\n",
      "max_pooling2d_9 (MaxPooling2 (None, 64, 64, 32)        0         \n",
      "_________________________________________________________________\n",
      "dropout_7 (Dropout)          (None, 64, 64, 32)        0         \n",
      "_________________________________________________________________\n",
      "conv2d_10 (Conv2D)           (None, 64, 64, 32)        9248      \n",
      "_________________________________________________________________\n",
      "max_pooling2d_10 (MaxPooling (None, 21, 21, 32)        0         \n",
      "_________________________________________________________________\n",
      "dropout_8 (Dropout)          (None, 21, 21, 32)        0         \n",
      "_________________________________________________________________\n",
      "conv2d_11 (Conv2D)           (None, 21, 21, 64)        18496     \n",
      "_________________________________________________________________\n",
      "max_pooling2d_11 (MaxPooling (None, 7, 7, 64)          0         \n",
      "_________________________________________________________________\n",
      "dropout_9 (Dropout)          (None, 7, 7, 64)          0         \n",
      "_________________________________________________________________\n",
      "conv2d_12 (Conv2D)           (None, 7, 7, 64)          36928     \n",
      "_________________________________________________________________\n",
      "max_pooling2d_12 (MaxPooling (None, 2, 2, 64)          0         \n",
      "_________________________________________________________________\n",
      "dropout_10 (Dropout)         (None, 2, 2, 64)          0         \n",
      "_________________________________________________________________\n",
      "flatten (Flatten)            (None, 256)               0         \n",
      "_________________________________________________________________\n",
      "dense (Dense)                (None, 40)                10280     \n",
      "_________________________________________________________________\n",
      "dense_1 (Dense)              (None, 11)                451       \n",
      "=================================================================\n",
      "Total params: 77,835\n",
      "Trainable params: 77,835\n",
      "Non-trainable params: 0\n",
      "_________________________________________________________________\n"
     ]
    }
   ],
   "source": [
    "import tensorflow\n",
    "def compile_model(model):\n",
    "    opt = tensorflow.keras.optimizers.Adam(learning_rate=1e-3)\n",
    "    model.compile(loss='categorical_crossentropy',\n",
    "                  optimizer=opt,\n",
    "                  metrics=['accuracy'])\n",
    "    return model\n",
    "\n",
    "model = build_model()\n",
    "model = compile_model(model)\n",
    "model.summary()"
   ]
  },
  {
   "cell_type": "code",
   "execution_count": 15,
   "metadata": {},
   "outputs": [],
   "source": [
    "from tensorflow.keras.callbacks import EarlyStopping\n",
    "es = EarlyStopping(monitor='val_loss', mode='min', patience=5, verbose=1, restore_best_weights=True, min_delta=1e-2)\n",
    "#tensorflow.config.experimental_run_functions_eagerly(True)"
   ]
  },
  {
   "cell_type": "markdown",
   "metadata": {},
   "source": [
    "# training model"
   ]
  },
  {
   "cell_type": "code",
   "execution_count": 16,
   "metadata": {},
   "outputs": [
    {
     "name": "stdout",
     "output_type": "stream",
     "text": [
      "Epoch 1/100\n",
      "100/100 [==============================] - 65s 650ms/step - loss: 2.3804 - accuracy: 0.1114 - val_loss: 2.3417 - val_accuracy: 0.1131\n",
      "Epoch 2/100\n",
      "100/100 [==============================] - 65s 648ms/step - loss: 2.2175 - accuracy: 0.1790 - val_loss: 2.1266 - val_accuracy: 0.2737\n",
      "Epoch 3/100\n",
      "100/100 [==============================] - 65s 647ms/step - loss: 2.0386 - accuracy: 0.2679 - val_loss: 2.0719 - val_accuracy: 0.2526\n",
      "Epoch 4/100\n",
      "100/100 [==============================] - 65s 648ms/step - loss: 1.9359 - accuracy: 0.3105 - val_loss: 1.9474 - val_accuracy: 0.3263\n",
      "Epoch 5/100\n",
      "100/100 [==============================] - 65s 650ms/step - loss: 1.8622 - accuracy: 0.3383 - val_loss: 1.8173 - val_accuracy: 0.3781\n",
      "Epoch 6/100\n",
      "100/100 [==============================] - 65s 650ms/step - loss: 1.7909 - accuracy: 0.3718 - val_loss: 1.8313 - val_accuracy: 0.3445\n",
      "Epoch 7/100\n",
      "100/100 [==============================] - 65s 648ms/step - loss: 1.7026 - accuracy: 0.4072 - val_loss: 1.7425 - val_accuracy: 0.3920\n",
      "Epoch 8/100\n",
      "100/100 [==============================] - 65s 650ms/step - loss: 1.6378 - accuracy: 0.4372 - val_loss: 1.6595 - val_accuracy: 0.4263\n",
      "Epoch 9/100\n",
      "100/100 [==============================] - 65s 649ms/step - loss: 1.5717 - accuracy: 0.4501 - val_loss: 1.5777 - val_accuracy: 0.4708\n",
      "Epoch 10/100\n",
      "100/100 [==============================] - 65s 649ms/step - loss: 1.5195 - accuracy: 0.4682 - val_loss: 1.5480 - val_accuracy: 0.4686\n",
      "Epoch 11/100\n",
      "100/100 [==============================] - 65s 648ms/step - loss: 1.4416 - accuracy: 0.5005 - val_loss: 1.5319 - val_accuracy: 0.4701\n",
      "Epoch 12/100\n",
      "100/100 [==============================] - 65s 648ms/step - loss: 1.4148 - accuracy: 0.5092 - val_loss: 1.5196 - val_accuracy: 0.4759\n",
      "Epoch 13/100\n",
      "100/100 [==============================] - 65s 649ms/step - loss: 1.3739 - accuracy: 0.5299 - val_loss: 1.4536 - val_accuracy: 0.5131\n",
      "Epoch 14/100\n",
      "100/100 [==============================] - 65s 653ms/step - loss: 1.3386 - accuracy: 0.5346 - val_loss: 1.4956 - val_accuracy: 0.4839\n",
      "Epoch 15/100\n",
      "100/100 [==============================] - 65s 646ms/step - loss: 1.2893 - accuracy: 0.5540 - val_loss: 1.4398 - val_accuracy: 0.5066\n",
      "Epoch 16/100\n",
      "100/100 [==============================] - 65s 646ms/step - loss: 1.2751 - accuracy: 0.5540 - val_loss: 1.4989 - val_accuracy: 0.4985\n",
      "Epoch 17/100\n",
      "100/100 [==============================] - 65s 646ms/step - loss: 1.2351 - accuracy: 0.5765 - val_loss: 1.4082 - val_accuracy: 0.5073\n",
      "Epoch 18/100\n",
      "100/100 [==============================] - 65s 647ms/step - loss: 1.1805 - accuracy: 0.5844 - val_loss: 1.3738 - val_accuracy: 0.5270\n",
      "Epoch 19/100\n",
      "100/100 [==============================] - 64s 645ms/step - loss: 1.1499 - accuracy: 0.5959 - val_loss: 1.3798 - val_accuracy: 0.5423\n",
      "Epoch 20/100\n",
      "100/100 [==============================] - 65s 646ms/step - loss: 1.1268 - accuracy: 0.6034 - val_loss: 1.3121 - val_accuracy: 0.5628\n",
      "Epoch 21/100\n",
      "100/100 [==============================] - 65s 646ms/step - loss: 1.0913 - accuracy: 0.6232 - val_loss: 1.3399 - val_accuracy: 0.5460\n",
      "Epoch 22/100\n",
      "100/100 [==============================] - 64s 645ms/step - loss: 1.0613 - accuracy: 0.6322 - val_loss: 1.3613 - val_accuracy: 0.5343\n",
      "Epoch 23/100\n",
      "100/100 [==============================] - 65s 646ms/step - loss: 1.0575 - accuracy: 0.6250 - val_loss: 1.3424 - val_accuracy: 0.5518\n",
      "Epoch 24/100\n",
      "100/100 [==============================] - 64s 644ms/step - loss: 1.0296 - accuracy: 0.6438 - val_loss: 1.3689 - val_accuracy: 0.5504\n",
      "Epoch 25/100\n",
      "100/100 [==============================] - 64s 645ms/step - loss: 1.0104 - accuracy: 0.6560 - val_loss: 1.2785 - val_accuracy: 0.5584\n",
      "Epoch 26/100\n",
      "100/100 [==============================] - 66s 659ms/step - loss: 0.9786 - accuracy: 0.6604 - val_loss: 1.2691 - val_accuracy: 0.5708\n",
      "Epoch 27/100\n",
      "100/100 [==============================] - 65s 648ms/step - loss: 0.9672 - accuracy: 0.6645 - val_loss: 1.3641 - val_accuracy: 0.5299\n",
      "Epoch 28/100\n",
      "100/100 [==============================] - 65s 653ms/step - loss: 0.9379 - accuracy: 0.6736 - val_loss: 1.2581 - val_accuracy: 0.5708\n",
      "Epoch 29/100\n",
      "100/100 [==============================] - 65s 648ms/step - loss: 0.9538 - accuracy: 0.6714 - val_loss: 1.3190 - val_accuracy: 0.5555\n",
      "Epoch 30/100\n",
      "100/100 [==============================] - 65s 652ms/step - loss: 0.8912 - accuracy: 0.6823 - val_loss: 1.2407 - val_accuracy: 0.5891\n",
      "Epoch 31/100\n",
      "100/100 [==============================] - 65s 650ms/step - loss: 0.8716 - accuracy: 0.7033 - val_loss: 1.2448 - val_accuracy: 0.5810\n",
      "Epoch 32/100\n",
      "100/100 [==============================] - 65s 651ms/step - loss: 0.8641 - accuracy: 0.6955 - val_loss: 1.2173 - val_accuracy: 0.5839\n",
      "Epoch 33/100\n",
      "100/100 [==============================] - 65s 650ms/step - loss: 0.8276 - accuracy: 0.7105 - val_loss: 1.2416 - val_accuracy: 0.5781\n",
      "Epoch 34/100\n",
      "100/100 [==============================] - 65s 652ms/step - loss: 0.7958 - accuracy: 0.7280 - val_loss: 1.2139 - val_accuracy: 0.5949\n",
      "Epoch 35/100\n",
      "100/100 [==============================] - 65s 653ms/step - loss: 0.7878 - accuracy: 0.7290 - val_loss: 1.2837 - val_accuracy: 0.5715\n",
      "Epoch 36/100\n",
      "100/100 [==============================] - 66s 655ms/step - loss: 0.7832 - accuracy: 0.7221 - val_loss: 1.2377 - val_accuracy: 0.5803\n",
      "Epoch 37/100\n",
      "100/100 [==============================] - ETA: 0s - loss: 0.7742 - accuracy: 0.7355Restoring model weights from the end of the best epoch.\n",
      "100/100 [==============================] - 65s 653ms/step - loss: 0.7742 - accuracy: 0.7355 - val_loss: 1.2559 - val_accuracy: 0.5774\n",
      "Epoch 00037: early stopping\n"
     ]
    }
   ],
   "source": [
    "history = model.fit(X_train, y_train, validation_split=0.3, callbacks=[es], epochs=100, batch_size=32)"
   ]
  },
  {
   "cell_type": "code",
   "execution_count": 17,
   "metadata": {},
   "outputs": [],
   "source": [
    "def plot_history(history, title='', axs=None, exp_name=\"\"):\n",
    "    if axs is not None:\n",
    "        ax1, ax2 = axs\n",
    "    else:\n",
    "        f, (ax1, ax2) = plt.subplots(1, 2, figsize=(12, 4))\n",
    "    \n",
    "    if len(exp_name) > 0 and exp_name[0] != '_':\n",
    "        exp_name = '_' + exp_name\n",
    "    ax1.plot(history.history['loss'], label='train' + exp_name)\n",
    "    ax1.plot(history.history['val_loss'], label='val' + exp_name)\n",
    "    #ax1.set_ylim(0., 2.2)\n",
    "    ax1.set_title('BCE loss')\n",
    "    ax1.legend()\n",
    "\n",
    "    ax2.plot(history.history['accuracy'], label='train accuracy'  + exp_name)\n",
    "    ax2.plot(history.history['val_accuracy'], label='val accuracy'  + exp_name)\n",
    "    #ax2.set_ylim(0.25, 1.)\n",
    "    ax2.set_title('Accuracy')\n",
    "    ax2.legend()\n",
    "    return (ax1, ax2)"
   ]
  },
  {
   "cell_type": "code",
   "execution_count": 18,
   "metadata": {},
   "outputs": [
    {
     "data": {
      "image/png": "[encoded data removed]",
      "text/plain": [
       "<Figure size 864x288 with 2 Axes>"
      ]
     },
     "metadata": {
      "needs_background": "light"
     },
     "output_type": "display_data"
    }
   ],
   "source": [
    "import matplotlib.pyplot as plt\n",
    "plot_history(history)\n",
    "plt.show()"
   ]
  },
  {
   "cell_type": "markdown",
   "metadata": {},
   "source": [
    "# evaluating model"
   ]
  },
  {
   "cell_type": "code",
   "execution_count": 19,
   "metadata": {},
   "outputs": [
    {
     "data": {
      "text/plain": [
       "[3.1640522480010986, 0.0892857164144516]"
      ]
     },
     "execution_count": 19,
     "metadata": {},
     "output_type": "execute_result"
    }
   ],
   "source": [
    "model.evaluate(X_test, y_test, verbose=0)"
   ]
  },
  {
   "cell_type": "code",
   "execution_count": 20,
   "metadata": {},
   "outputs": [],
   "source": [
    "from sklearn.metrics import classification_report\n",
    "y_pred = model.predict(X_test)"
   ]
  },
  {
   "cell_type": "code",
   "execution_count": null,
   "metadata": {},
   "outputs": [],
   "source": [
    "y_pred.shape"
   ]
  },
  {
   "cell_type": "code",
   "execution_count": null,
   "metadata": {},
   "outputs": [],
   "source": [
    "y_test.shape"
   ]
  },
  {
   "cell_type": "code",
   "execution_count": 21,
   "metadata": {},
   "outputs": [
    {
     "name": "stdout",
     "output_type": "stream",
     "text": [
      "              precision    recall  f1-score   support\n",
      "\n",
      "           0       0.00      0.00      0.00        38\n",
      "           1       0.00      0.00      0.00        42\n",
      "           2       0.14      0.32      0.20        37\n",
      "           3       0.00      0.00      0.00        34\n",
      "           4       0.00      0.00      0.00        38\n",
      "           5       1.00      0.06      0.11        36\n",
      "           6       0.07      0.70      0.13        30\n",
      "           7       0.00      0.00      0.00        42\n",
      "           8       0.00      0.00      0.00        45\n",
      "           9       0.00      0.00      0.00        28\n",
      "          10       0.00      0.00      0.00        22\n",
      "\n",
      "   micro avg       0.09      0.09      0.09       392\n",
      "   macro avg       0.11      0.10      0.04       392\n",
      "weighted avg       0.11      0.09      0.04       392\n",
      "\n"
     ]
    },
    {
     "name": "stderr",
     "output_type": "stream",
     "text": [
      "/home/lilahammer/.pyenv/versions/3.7.7/envs/lewagon/lib/python3.7/site-packages/sklearn/metrics/classification.py:1143: UndefinedMetricWarning: Precision and F-score are ill-defined and being set to 0.0 in labels with no predicted samples.\n",
      "  'precision', 'predicted', average, warn_for)\n"
     ]
    }
   ],
   "source": [
    "y_test_label = np.argmax(y_test,axis=1)\n",
    "y_pred_label = np.argmax(y_pred,axis=1)\n",
    "\n",
    "print(classification_report(y_test_label,y_pred_label))"
   ]
  },
  {
   "cell_type": "code",
   "execution_count": null,
   "metadata": {},
   "outputs": [],
   "source": []
  }
 ],
 "metadata": {
  "kernelspec": {
   "display_name": "Python 3",
   "language": "python",
   "name": "python3"
  },
  "language_info": {
   "codemirror_mode": {
    "name": "ipython",
    "version": 3
   },
   "file_extension": ".py",
   "mimetype": "text/x-python",
   "name": "python",
   "nbconvert_exporter": "python",
   "pygments_lexer": "ipython3",
   "version": "3.7.7"
  }
 },
 "nbformat": 4,
 "nbformat_minor": 4
}
