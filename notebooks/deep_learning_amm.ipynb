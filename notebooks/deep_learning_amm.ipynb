{
 "cells": [
  {
   "cell_type": "markdown",
   "metadata": {},
   "source": [
    "# Imports"
   ]
  },
  {
   "cell_type": "code",
   "execution_count": 4,
   "metadata": {},
   "outputs": [],
   "source": [
    "import tensorflow\n",
    "import matplotlib.pyplot as plt\n",
    "from tensorflow.keras.callbacks import EarlyStopping\n",
    "from tensorflow.keras.preprocessing.image import DirectoryIterator\n",
    "from sklearn.model_selection import train_test_split\n",
    "import os"
   ]
  },
  {
   "cell_type": "markdown",
   "metadata": {},
   "source": [
    "# Get data"
   ]
  },
  {
   "cell_type": "markdown",
   "metadata": {},
   "source": [
    "## without augmentation"
   ]
  },
  {
   "cell_type": "code",
   "execution_count": 9,
   "metadata": {},
   "outputs": [],
   "source": [
    "def get_data(val_split = False, val_size = 0.3):\n",
    "    '''Cette fonction parcourt le dossier contenant les images de départ et les renvoie,\n",
    "    en uniformisant les tailles, sous forme de nd-arrays NumPy. La fonction exécute\n",
    "    aussi un train_test_split qui distingue un dataset d'entraînement (70% des images)\n",
    "    et un dataset de test (30% des images). '''\n",
    "    path = '../catchafish/data'\n",
    "    batch_size = 100000\n",
    "\n",
    "    dir_iterator = DirectoryIterator(directory = path,\n",
    "                                     image_data_generator = None,\n",
    "                                     target_size = (128, 128),\n",
    "                                     batch_size = batch_size,\n",
    "                                     shuffle = False,\n",
    "                                     dtype = int)\n",
    "\n",
    "    X = dir_iterator[0][0]\n",
    "    y = dir_iterator.labels\n",
    "\n",
    "    X_train, X_test, y_train, y_test = train_test_split(X, y, test_size = 0.3, random_state = 1)\n",
    "\n",
    "    if val_split:\n",
    "        X_train, X_val, y_train, y_val = train_test_split(X_train, y_train, test_size = val_size)\n",
    "        return X_train, X_val, X_test, y_train, y_val, y_test\n",
    "    else:\n",
    "        return X_train, X_test, y_train, y_test"
   ]
  },
  {
   "cell_type": "code",
   "execution_count": 10,
   "metadata": {},
   "outputs": [
    {
     "name": "stdout",
     "output_type": "stream",
     "text": [
      "Found 1305 images belonging to 11 classes.\n"
     ]
    },
    {
     "name": "stderr",
     "output_type": "stream",
     "text": [
      "/home/lilahammer/.pyenv/versions/3.7.7/envs/lewagon/lib/python3.7/site-packages/PIL/Image.py:960: UserWarning: Palette images with Transparency expressed in bytes should be converted to RGBA images\n",
      "  \"Palette images with Transparency expressed in bytes should be \"\n"
     ]
    }
   ],
   "source": [
    "X_train, X_test, y_train, y_test = get_data()"
   ]
  },
  {
   "cell_type": "markdown",
   "metadata": {},
   "source": [
    "## with augmentation"
   ]
  },
  {
   "cell_type": "code",
   "execution_count": 31,
   "metadata": {},
   "outputs": [
    {
     "name": "stdout",
     "output_type": "stream",
     "text": [
      "Found 1305 images belonging to 11 classes.\n"
     ]
    },
    {
     "ename": "NameError",
     "evalue": "name 'zca_whitening' is not defined",
     "output_type": "error",
     "traceback": [
      "\u001b[0;31m---------------------------------------------------------------------------\u001b[0m",
      "\u001b[0;31mNameError\u001b[0m                                 Traceback (most recent call last)",
      "\u001b[0;32m<ipython-input-31-bd0fbee3c386>\u001b[0m in \u001b[0;36m<module>\u001b[0;34m\u001b[0m\n\u001b[1;32m     10\u001b[0m \u001b[0my\u001b[0m \u001b[0;34m=\u001b[0m \u001b[0mdir_iterator\u001b[0m\u001b[0;34m.\u001b[0m\u001b[0mlabels\u001b[0m\u001b[0;34m\u001b[0m\u001b[0;34m\u001b[0m\u001b[0m\n\u001b[1;32m     11\u001b[0m \u001b[0mX_train\u001b[0m\u001b[0;34m,\u001b[0m \u001b[0mX_test\u001b[0m\u001b[0;34m,\u001b[0m \u001b[0my_train\u001b[0m\u001b[0;34m,\u001b[0m \u001b[0my_test\u001b[0m \u001b[0;34m=\u001b[0m \u001b[0mtrain_test_split\u001b[0m\u001b[0;34m(\u001b[0m\u001b[0mX\u001b[0m\u001b[0;34m,\u001b[0m \u001b[0my\u001b[0m\u001b[0;34m,\u001b[0m \u001b[0mtest_size\u001b[0m \u001b[0;34m=\u001b[0m \u001b[0;36m0.3\u001b[0m\u001b[0;34m,\u001b[0m \u001b[0mrandom_state\u001b[0m \u001b[0;34m=\u001b[0m \u001b[0;36m1\u001b[0m\u001b[0;34m)\u001b[0m\u001b[0;34m\u001b[0m\u001b[0;34m\u001b[0m\u001b[0m\n\u001b[0;32m---> 12\u001b[0;31m image_data_generator = ImageDataGenerator(zca_whitening = zca_whitening, \n\u001b[0m\u001b[1;32m     13\u001b[0m                                           \u001b[0mrotation_range\u001b[0m \u001b[0;34m=\u001b[0m \u001b[0;36m5\u001b[0m\u001b[0;34m,\u001b[0m\u001b[0;34m\u001b[0m\u001b[0;34m\u001b[0m\u001b[0m\n\u001b[1;32m     14\u001b[0m                                           \u001b[0mwidth_shift_range\u001b[0m \u001b[0;34m=\u001b[0m \u001b[0;36m0.3\u001b[0m\u001b[0;34m,\u001b[0m\u001b[0;34m\u001b[0m\u001b[0;34m\u001b[0m\u001b[0m\n",
      "\u001b[0;31mNameError\u001b[0m: name 'zca_whitening' is not defined"
     ]
    }
   ],
   "source": [
    "zca_whitening = True\n",
    "path = '../catchafish/test_data'\n",
    "batch_size = 1500\n",
    "dir_iterator = DirectoryIterator(directory = path, \n",
    "                                 image_data_generator = None,\n",
    "                                 target_size = (128, 128),\n",
    "                                 batch_size = batch_size,\n",
    "                                 shuffle = False,\n",
    "                                 dtype = int)\n",
    "X = dir_iterator[0][0] / 255\n",
    "y = dir_iterator.labels\n",
    "X_train, X_test, y_train, y_test = train_test_split(X, y, test_size = 0.3, random_state = 1)\n",
    "image_data_generator = ImageDataGenerator(zca_whitening = zca_whitening, \n",
    "                                          rotation_range = 5,\n",
    "                                          width_shift_range = 0.3, \n",
    "                                          height_shift_range = 0.3, \n",
    "                                          shear_range = 0.3, \n",
    "                                          zoom_range = 0.3, \n",
    "                                          horizontal_flip = True, \n",
    "                                          fill_mode = 'nearest')\n",
    "if zca_whitening:\n",
    "    image_data_generator.fit(X_train)\n",
    "extended_output = []\n",
    "for images in image_data_generator.flow(X_train, y_train, batch_size = batch_size):\n",
    "    extended_output.append(images)\n",
    "    if len(extended_output) == 5:\n",
    "        break\n",
    "X_train = extended_output[0][0]\n",
    "y_train = extended_output[0][1]\n",
    "for data_tuple in extended_output[1:]:\n",
    "    X_train = np.concatenate((X_train, data_tuple[0]), axis = 0)\n",
    "    y_train = np.concatenate((y_train, data_tuple[1]), axis = 0)"
   ]
  },
  {
   "cell_type": "markdown",
   "metadata": {},
   "source": [
    "## y to categorical"
   ]
  },
  {
   "cell_type": "code",
   "execution_count": 11,
   "metadata": {},
   "outputs": [],
   "source": [
    "from tensorflow.keras.utils import to_categorical\n",
    "y_train = to_categorical(y_train, 11)\n",
    "y_test = to_categorical(y_test, 11)"
   ]
  },
  {
   "cell_type": "markdown",
   "metadata": {},
   "source": [
    "## def model"
   ]
  },
  {
   "cell_type": "code",
   "execution_count": 23,
   "metadata": {},
   "outputs": [],
   "source": [
    "from __future__ import print_function\n",
    "from tensorflow import keras\n",
    "from tensorflow.keras.preprocessing.image import ImageDataGenerator\n",
    "from tensorflow.keras.models import Sequential\n",
    "from tensorflow.keras.layers import Dense, Dropout, Activation, Flatten\n",
    "from tensorflow.keras.layers import Conv2D, MaxPooling2D\n",
    "import os\n",
    "\n",
    "def build_model():\n",
    "    model = Sequential()\n",
    "    model.add(Conv2D(32, (5, 5), padding='same', input_shape=(128, 128, 3), activation='relu'))\n",
    "    model.add(MaxPooling2D(pool_size=(2, 2)))\n",
    "    model.add(Dropout(0.2))\n",
    "    \n",
    "    model.add(Conv2D(32, (3, 3), padding='same', activation='relu'))\n",
    "    model.add(MaxPooling2D(pool_size=(3, 3)))\n",
    "    model.add(Dropout(0.2))\n",
    "    \n",
    "    model.add(Conv2D(64, (3, 3), padding='same', activation='relu'))\n",
    "    model.add(MaxPooling2D(pool_size=(3, 3)))\n",
    "    model.add(Dropout(0.2))\n",
    "    \n",
    "    model.add(Flatten())\n",
    "    model.add(Dense(40, activation='relu'))\n",
    "    model.add(Dense(11, activation='softmax'))\n",
    "    \n",
    "    return model"
   ]
  },
  {
   "cell_type": "code",
   "execution_count": 24,
   "metadata": {},
   "outputs": [
    {
     "name": "stdout",
     "output_type": "stream",
     "text": [
      "Model: \"sequential_2\"\n",
      "_________________________________________________________________\n",
      "Layer (type)                 Output Shape              Param #   \n",
      "=================================================================\n",
      "conv2d_6 (Conv2D)            (None, 128, 128, 32)      2432      \n",
      "_________________________________________________________________\n",
      "max_pooling2d_6 (MaxPooling2 (None, 64, 64, 32)        0         \n",
      "_________________________________________________________________\n",
      "dropout (Dropout)            (None, 64, 64, 32)        0         \n",
      "_________________________________________________________________\n",
      "conv2d_7 (Conv2D)            (None, 64, 64, 32)        9248      \n",
      "_________________________________________________________________\n",
      "max_pooling2d_7 (MaxPooling2 (None, 21, 21, 32)        0         \n",
      "_________________________________________________________________\n",
      "dropout_1 (Dropout)          (None, 21, 21, 32)        0         \n",
      "_________________________________________________________________\n",
      "conv2d_8 (Conv2D)            (None, 21, 21, 64)        18496     \n",
      "_________________________________________________________________\n",
      "max_pooling2d_8 (MaxPooling2 (None, 7, 7, 64)          0         \n",
      "_________________________________________________________________\n",
      "dropout_2 (Dropout)          (None, 7, 7, 64)          0         \n",
      "_________________________________________________________________\n",
      "flatten_2 (Flatten)          (None, 3136)              0         \n",
      "_________________________________________________________________\n",
      "dense_4 (Dense)              (None, 40)                125480    \n",
      "_________________________________________________________________\n",
      "dense_5 (Dense)              (None, 11)                451       \n",
      "=================================================================\n",
      "Total params: 156,107\n",
      "Trainable params: 156,107\n",
      "Non-trainable params: 0\n",
      "_________________________________________________________________\n"
     ]
    }
   ],
   "source": [
    "def compile_model(model):\n",
    "    opt = tensorflow.keras.optimizers.Adam(learning_rate=1e-3)\n",
    "    model.compile(loss='categorical_crossentropy',\n",
    "                  optimizer=opt,\n",
    "                  metrics=['accuracy'])\n",
    "    return model\n",
    "\n",
    "model = build_model()\n",
    "model = compile_model(model)\n",
    "model.summary()"
   ]
  },
  {
   "cell_type": "code",
   "execution_count": 25,
   "metadata": {},
   "outputs": [],
   "source": [
    "from tensorflow.keras.callbacks import EarlyStopping\n",
    "es = EarlyStopping(monitor='val_loss', mode='min', patience=5, verbose=1, restore_best_weights=True, min_delta=1e-2)\n",
    "#tensorflow.config.experimental_run_functions_eagerly(True)"
   ]
  },
  {
   "cell_type": "markdown",
   "metadata": {},
   "source": [
    "# training model"
   ]
  },
  {
   "cell_type": "code",
   "execution_count": 26,
   "metadata": {},
   "outputs": [
    {
     "name": "stdout",
     "output_type": "stream",
     "text": [
      "Epoch 1/100\n",
      "20/20 [==============================] - 22s 1s/step - loss: 30.9094 - accuracy: 0.0908 - val_loss: 2.5068 - val_accuracy: 0.1387\n",
      "Epoch 2/100\n",
      "20/20 [==============================] - 23s 1s/step - loss: 2.6838 - accuracy: 0.1017 - val_loss: 2.3643 - val_accuracy: 0.1277\n",
      "Epoch 3/100\n",
      "20/20 [==============================] - 24s 1s/step - loss: 2.4224 - accuracy: 0.1174 - val_loss: 2.3409 - val_accuracy: 0.1569\n",
      "Epoch 4/100\n",
      "20/20 [==============================] - 24s 1s/step - loss: 2.3338 - accuracy: 0.1721 - val_loss: 2.3314 - val_accuracy: 0.1606\n",
      "Epoch 5/100\n",
      "20/20 [==============================] - 22s 1s/step - loss: 2.3039 - accuracy: 0.1831 - val_loss: 2.2645 - val_accuracy: 0.1971\n",
      "Epoch 6/100\n",
      "20/20 [==============================] - 21s 1s/step - loss: 2.2141 - accuracy: 0.2144 - val_loss: 2.2479 - val_accuracy: 0.2044\n",
      "Epoch 7/100\n",
      "20/20 [==============================] - 25s 1s/step - loss: 2.1875 - accuracy: 0.2222 - val_loss: 2.1791 - val_accuracy: 0.2263\n",
      "Epoch 8/100\n",
      "20/20 [==============================] - 23s 1s/step - loss: 2.1401 - accuracy: 0.2535 - val_loss: 2.1237 - val_accuracy: 0.2591\n",
      "Epoch 9/100\n",
      "20/20 [==============================] - 23s 1s/step - loss: 2.0880 - accuracy: 0.2676 - val_loss: 2.0606 - val_accuracy: 0.2664\n",
      "Epoch 10/100\n",
      "20/20 [==============================] - 25s 1s/step - loss: 1.9878 - accuracy: 0.3224 - val_loss: 2.0172 - val_accuracy: 0.3175\n",
      "Epoch 11/100\n",
      "20/20 [==============================] - 28s 1s/step - loss: 1.9334 - accuracy: 0.3427 - val_loss: 1.9517 - val_accuracy: 0.3285\n",
      "Epoch 12/100\n",
      "20/20 [==============================] - 25s 1s/step - loss: 1.8510 - accuracy: 0.3928 - val_loss: 1.9398 - val_accuracy: 0.4015\n",
      "Epoch 13/100\n",
      "20/20 [==============================] - 25s 1s/step - loss: 1.7538 - accuracy: 0.3897 - val_loss: 1.8098 - val_accuracy: 0.4161\n",
      "Epoch 14/100\n",
      "20/20 [==============================] - 24s 1s/step - loss: 1.6341 - accuracy: 0.4507 - val_loss: 1.6733 - val_accuracy: 0.4599\n",
      "Epoch 15/100\n",
      "20/20 [==============================] - 24s 1s/step - loss: 1.4710 - accuracy: 0.4945 - val_loss: 1.5927 - val_accuracy: 0.5109\n",
      "Epoch 16/100\n",
      "20/20 [==============================] - 22s 1s/step - loss: 1.4381 - accuracy: 0.5070 - val_loss: 1.5284 - val_accuracy: 0.5073\n",
      "Epoch 17/100\n",
      "20/20 [==============================] - 25s 1s/step - loss: 1.3402 - accuracy: 0.5556 - val_loss: 1.4775 - val_accuracy: 0.5109\n",
      "Epoch 18/100\n",
      "20/20 [==============================] - 30s 1s/step - loss: 1.3319 - accuracy: 0.5556 - val_loss: 1.4187 - val_accuracy: 0.5766\n",
      "Epoch 19/100\n",
      "20/20 [==============================] - 27s 1s/step - loss: 1.2545 - accuracy: 0.5806 - val_loss: 1.3343 - val_accuracy: 0.5328\n",
      "Epoch 20/100\n",
      "20/20 [==============================] - 28s 1s/step - loss: 1.0473 - accuracy: 0.6416 - val_loss: 1.2915 - val_accuracy: 0.5949\n",
      "Epoch 21/100\n",
      "20/20 [==============================] - 26s 1s/step - loss: 0.9510 - accuracy: 0.6839 - val_loss: 1.1391 - val_accuracy: 0.6314\n",
      "Epoch 22/100\n",
      "20/20 [==============================] - 26s 1s/step - loss: 0.8996 - accuracy: 0.7011 - val_loss: 1.0851 - val_accuracy: 0.6715\n",
      "Epoch 23/100\n",
      "20/20 [==============================] - 24s 1s/step - loss: 0.8128 - accuracy: 0.7308 - val_loss: 1.0394 - val_accuracy: 0.6788\n",
      "Epoch 24/100\n",
      "20/20 [==============================] - 27s 1s/step - loss: 0.7761 - accuracy: 0.7700 - val_loss: 1.0783 - val_accuracy: 0.6569\n",
      "Epoch 25/100\n",
      "20/20 [==============================] - 25s 1s/step - loss: 0.7221 - accuracy: 0.7731 - val_loss: 1.0632 - val_accuracy: 0.6606\n",
      "Epoch 26/100\n",
      "20/20 [==============================] - 25s 1s/step - loss: 0.6642 - accuracy: 0.7856 - val_loss: 1.0529 - val_accuracy: 0.6934\n",
      "Epoch 27/100\n",
      "20/20 [==============================] - 24s 1s/step - loss: 0.6421 - accuracy: 0.7856 - val_loss: 1.0422 - val_accuracy: 0.6788\n",
      "Epoch 28/100\n",
      "20/20 [==============================] - ETA: 0s - loss: 0.5277 - accuracy: 0.8388Restoring model weights from the end of the best epoch.\n",
      "20/20 [==============================] - 27s 1s/step - loss: 0.5277 - accuracy: 0.8388 - val_loss: 1.0821 - val_accuracy: 0.6861\n",
      "Epoch 00028: early stopping\n"
     ]
    }
   ],
   "source": [
    "history = model.fit(X_train, y_train, validation_split=0.3, callbacks=[es], epochs=100, batch_size=32)"
   ]
  },
  {
   "cell_type": "code",
   "execution_count": 27,
   "metadata": {},
   "outputs": [],
   "source": [
    "def plot_history(history, title='', axs=None, exp_name=\"\"):\n",
    "    if axs is not None:\n",
    "        ax1, ax2 = axs\n",
    "    else:\n",
    "        f, (ax1, ax2) = plt.subplots(1, 2, figsize=(12, 4))\n",
    "    \n",
    "    if len(exp_name) > 0 and exp_name[0] != '_':\n",
    "        exp_name = '_' + exp_name\n",
    "    ax1.plot(history.history['loss'], label='train' + exp_name)\n",
    "    ax1.plot(history.history['val_loss'], label='val' + exp_name)\n",
    "    #ax1.set_ylim(0., 2.2)\n",
    "    ax1.set_title('BCE loss')\n",
    "    ax1.legend()\n",
    "\n",
    "    ax2.plot(history.history['accuracy'], label='train accuracy'  + exp_name)\n",
    "    ax2.plot(history.history['val_accuracy'], label='val accuracy'  + exp_name)\n",
    "    #ax2.set_ylim(0.25, 1.)\n",
    "    ax2.set_title('Accuracy')\n",
    "    ax2.legend()\n",
    "    return (ax1, ax2)"
   ]
  },
  {
   "cell_type": "code",
   "execution_count": 28,
   "metadata": {},
   "outputs": [
    {
     "data": {
      "image/png": "[encoded data removed]",
      "text/plain": [
       "<Figure size 864x288 with 2 Axes>"
      ]
     },
     "metadata": {
      "needs_background": "light"
     },
     "output_type": "display_data"
    }
   ],
   "source": [
    "plot_history(history)\n",
    "plt.show()"
   ]
  },
  {
   "cell_type": "markdown",
   "metadata": {},
   "source": [
    "# evaluating model"
   ]
  },
  {
   "cell_type": "code",
   "execution_count": 29,
   "metadata": {},
   "outputs": [
    {
     "data": {
      "text/plain": [
       "[1.1434848308563232, 0.6352040767669678]"
      ]
     },
     "execution_count": 29,
     "metadata": {},
     "output_type": "execute_result"
    }
   ],
   "source": [
    "model.evaluate(X_test, y_test, verbose=0)"
   ]
  },
  {
   "cell_type": "code",
   "execution_count": null,
   "metadata": {},
   "outputs": [],
   "source": []
  }
 ],
 "metadata": {
  "kernelspec": {
   "display_name": "Python 3",
   "language": "python",
   "name": "python3"
  },
  "language_info": {
   "codemirror_mode": {
    "name": "ipython",
    "version": 3
   },
   "file_extension": ".py",
   "mimetype": "text/x-python",
   "name": "python",
   "nbconvert_exporter": "python",
   "pygments_lexer": "ipython3",
   "version": "3.7.7"
  }
 },
 "nbformat": 4,
 "nbformat_minor": 4
}
