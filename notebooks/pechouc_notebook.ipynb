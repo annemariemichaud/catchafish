{
 "cells": [
  {
   "cell_type": "code",
   "execution_count": 4,
   "metadata": {},
   "outputs": [],
   "source": [
    "import numpy as np\n",
    "import matplotlib.pyplot as plt\n",
    "import seaborn as sns"
   ]
  },
  {
   "cell_type": "code",
   "execution_count": 5,
   "metadata": {
    "scrolled": true
   },
   "outputs": [],
   "source": [
    "import os\n",
    "from tensorflow.keras.preprocessing.image import DirectoryIterator\n",
    "from sklearn.model_selection import train_test_split"
   ]
  },
  {
   "cell_type": "code",
   "execution_count": null,
   "metadata": {},
   "outputs": [],
   "source": []
  },
  {
   "cell_type": "code",
   "execution_count": null,
   "metadata": {},
   "outputs": [],
   "source": []
  },
  {
   "cell_type": "code",
   "execution_count": null,
   "metadata": {},
   "outputs": [],
   "source": []
  },
  {
   "cell_type": "code",
   "execution_count": null,
   "metadata": {},
   "outputs": [],
   "source": []
  },
  {
   "cell_type": "code",
   "execution_count": null,
   "metadata": {},
   "outputs": [],
   "source": []
  },
  {
   "cell_type": "code",
   "execution_count": null,
   "metadata": {},
   "outputs": [],
   "source": []
  },
  {
   "cell_type": "code",
   "execution_count": null,
   "metadata": {},
   "outputs": [],
   "source": []
  },
  {
   "cell_type": "code",
   "execution_count": null,
   "metadata": {},
   "outputs": [],
   "source": []
  },
  {
   "cell_type": "code",
   "execution_count": null,
   "metadata": {},
   "outputs": [],
   "source": []
  },
  {
   "cell_type": "code",
   "execution_count": null,
   "metadata": {},
   "outputs": [],
   "source": []
  },
  {
   "cell_type": "code",
   "execution_count": null,
   "metadata": {},
   "outputs": [],
   "source": []
  },
  {
   "cell_type": "code",
   "execution_count": null,
   "metadata": {},
   "outputs": [],
   "source": []
  },
  {
   "cell_type": "code",
   "execution_count": 6,
   "metadata": {},
   "outputs": [],
   "source": [
    "def get_data(val_split = False, val_size = 0.3):\n",
    "    '''Cette fonction parcourt le dossier contenant les images de départ et les renvoie,\n",
    "    en uniformisant les tailles, sous forme de nd-arrays NumPy. La fonction exécute\n",
    "    aussi un train_test_split qui distingue un dataset d'entraînement (70% des images)\n",
    "    et un dataset de test (30% des images). '''\n",
    "    path = '../catchafish/data'\n",
    "    batch_size = 100000\n",
    "\n",
    "    dir_iterator = DirectoryIterator(directory = path,\n",
    "                                     image_data_generator = None,\n",
    "                                     target_size = (32, 32),\n",
    "                                     batch_size = batch_size,\n",
    "                                     shuffle = False,\n",
    "                                     dtype = int)\n",
    "\n",
    "    X = dir_iterator[0][0]\n",
    "    y = dir_iterator.labels\n",
    "\n",
    "    X_train, X_test, y_train, y_test = train_test_split(X, y, test_size = 0.3, random_state = 1)\n",
    "\n",
    "    if val_split:\n",
    "        X_train, X_val, y_train, y_val = train_test_split(X_train, y_train, test_size = val_size)\n",
    "        return X_train, X_val, X_test, y_train, y_val, y_test\n",
    "    else:\n",
    "        return X_train, X_test, y_train, y_test"
   ]
  },
  {
   "cell_type": "code",
   "execution_count": 7,
   "metadata": {
    "scrolled": true
   },
   "outputs": [
    {
     "name": "stdout",
     "output_type": "stream",
     "text": [
      "Found 26385 images belonging to 10 classes.\n"
     ]
    }
   ],
   "source": [
    "X_train, X_test, y_train, y_test = get_data()"
   ]
  },
  {
   "cell_type": "code",
   "execution_count": 8,
   "metadata": {},
   "outputs": [],
   "source": [
    "def get_data_test():\n",
    "    '''Cette  '''\n",
    "    path = '../catchafish/data_test'\n",
    "    batch_size = 1000\n",
    "\n",
    "    dir_iterator = DirectoryIterator(directory = path,\n",
    "                                     image_data_generator = None,\n",
    "                                     target_size = (32, 32),\n",
    "                                     batch_size = batch_size,\n",
    "                                     shuffle = False,\n",
    "                                     dtype = int)\n",
    "\n",
    "    X_test = dir_iterator[0][0]\n",
    "    y_test = dir_iterator.labels\n",
    "    return X_test, y_test"
   ]
  },
  {
   "cell_type": "code",
   "execution_count": 9,
   "metadata": {},
   "outputs": [
    {
     "name": "stdout",
     "output_type": "stream",
     "text": [
      "Found 253 images belonging to 10 classes.\n"
     ]
    }
   ],
   "source": [
    "X_test_last, y_test_last = get_data_test()"
   ]
  },
  {
   "cell_type": "code",
   "execution_count": 34,
   "metadata": {},
   "outputs": [
    {
     "data": {
      "text/plain": [
       "LogisticRegression(multi_class='multinomial', n_jobs=-1)"
      ]
     },
     "execution_count": 34,
     "metadata": {},
     "output_type": "execute_result"
    }
   ],
   "source": [
    "from sklearn.linear_model import LogisticRegression\n",
    "\n",
    "logreg = LogisticRegression(n_jobs = -1, \n",
    "                            multi_class = 'multinomial', \n",
    "                            solver = 'lbfgs')\n",
    "\n",
    "logreg.fit(X_train.reshape(18469, 32 * 32 * 3), y_train)"
   ]
  },
  {
   "cell_type": "code",
   "execution_count": 35,
   "metadata": {},
   "outputs": [
    {
     "data": {
      "text/plain": [
       "0.9243304699343102"
      ]
     },
     "execution_count": 35,
     "metadata": {},
     "output_type": "execute_result"
    }
   ],
   "source": [
    "logreg.score(X_test.reshape(7916, 32 * 32 * 3), y_test)"
   ]
  },
  {
   "cell_type": "code",
   "execution_count": 36,
   "metadata": {},
   "outputs": [
    {
     "data": {
      "text/plain": [
       "0.12648221343873517"
      ]
     },
     "execution_count": 36,
     "metadata": {},
     "output_type": "execute_result"
    }
   ],
   "source": [
    "logreg.score(X_test_last.reshape(253, 32 * 32 * 3), y_test_last)"
   ]
  },
  {
   "cell_type": "code",
   "execution_count": 37,
   "metadata": {},
   "outputs": [
    {
     "name": "stdout",
     "output_type": "stream",
     "text": [
      "              precision    recall  f1-score   support\n",
      "\n",
      "           0       0.07      0.14      0.10        21\n",
      "           1       0.08      0.10      0.09        21\n",
      "           2       0.00      0.00      0.00        20\n",
      "           3       0.10      0.45      0.17        20\n",
      "           4       0.22      0.16      0.19        25\n",
      "           5       0.35      0.17      0.23        35\n",
      "           6       0.00      0.00      0.00        34\n",
      "           7       1.00      0.05      0.10        37\n",
      "           8       0.40      0.10      0.16        20\n",
      "           9       0.08      0.20      0.11        20\n",
      "\n",
      "    accuracy                           0.13       253\n",
      "   macro avg       0.23      0.14      0.11       253\n",
      "weighted avg       0.28      0.13      0.12       253\n",
      "\n"
     ]
    }
   ],
   "source": [
    "from sklearn.metrics import classification_report\n",
    "\n",
    "print(classification_report(y_test_last, logreg.predict(X_test_last.reshape(253, 32 * 32 * 3))))"
   ]
  }
 ],
 "metadata": {
  "kernelspec": {
   "display_name": "Python 3",
   "language": "python",
   "name": "python3"
  },
  "language_info": {
   "codemirror_mode": {
    "name": "ipython",
    "version": 3
   },
   "file_extension": ".py",
   "mimetype": "text/x-python",
   "name": "python",
   "nbconvert_exporter": "python",
   "pygments_lexer": "ipython3",
   "version": "3.7.7"
  },
  "toc": {
   "base_numbering": 1,
   "nav_menu": {},
   "number_sections": false,
   "sideBar": true,
   "skip_h1_title": false,
   "title_cell": "Table of Contents",
   "title_sidebar": "Contents",
   "toc_cell": false,
   "toc_position": {},
   "toc_section_display": true,
   "toc_window_display": false
  }
 },
 "nbformat": 4,
 "nbformat_minor": 4
}
