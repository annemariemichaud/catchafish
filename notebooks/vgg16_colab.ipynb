{
 "cells": [
  {
   "cell_type": "markdown",
   "metadata": {},
   "source": [
    "**Relevant links:**"
   ]
  },
  {
   "cell_type": "code",
   "execution_count": 1,
   "metadata": {},
   "outputs": [
    {
     "name": "stdout",
     "output_type": "stream",
     "text": [
      "https://colab.research.google.com/drive/19SzN6Hemedjj5Ll2vbqMdLA3-pLKufT_?usp=sharing\n"
     ]
    }
   ],
   "source": [
    "path_to_colab_notebook = 'https://colab.research.google.com/drive/19SzN6Hemedjj5Ll2vbqMdLA3-pLKufT_?usp=sharing'\n",
    "print(path_to_colab_notebook)"
   ]
  },
  {
   "cell_type": "code",
   "execution_count": 3,
   "metadata": {},
   "outputs": [
    {
     "name": "stdout",
     "output_type": "stream",
     "text": [
      "https://drive.google.com/file/d/1x9DKZqV6I9nbuzevt4H1HzgTcrIRb-r2/view?usp=sharing\n"
     ]
    }
   ],
   "source": [
    "path_to_mode_trained_VGG16_layers = 'https://drive.google.com/file/d/1x9DKZqV6I9nbuzevt4H1HzgTcrIRb-r2/view?usp=sharing'\n",
    "print(path_to_mode_trained_VGG16_layers)"
   ]
  },
  {
   "cell_type": "code",
   "execution_count": 4,
   "metadata": {},
   "outputs": [
    {
     "name": "stdout",
     "output_type": "stream",
     "text": [
      "https://drive.google.com/file/d/1qCx7OIqmzCKft7fSipBhJ9w1QxiNy8Cp/view?usp=sharing\n"
     ]
    }
   ],
   "source": [
    "path_to_mode_untrained_VGG16_layers = 'https://drive.google.com/file/d/1qCx7OIqmzCKft7fSipBhJ9w1QxiNy8Cp/view?usp=sharing'\n",
    "print(path_to_mode_untrained_VGG16_layers)"
   ]
  },
  {
   "cell_type": "markdown",
   "metadata": {},
   "source": [
    "____"
   ]
  },
  {
   "cell_type": "markdown",
   "metadata": {},
   "source": [
    "**Code snippet to load the model:**"
   ]
  },
  {
   "cell_type": "code",
   "execution_count": null,
   "metadata": {},
   "outputs": [],
   "source": [
    "from tensorflow.keras.models import load_model\n",
    "model = load_model('path/to/model.h5')"
   ]
  },
  {
   "cell_type": "markdown",
   "metadata": {},
   "source": [
    "____"
   ]
  },
  {
   "cell_type": "markdown",
   "metadata": {},
   "source": [
    "**Results of the cross-validation:**"
   ]
  },
  {
   "cell_type": "code",
   "execution_count": 5,
   "metadata": {},
   "outputs": [],
   "source": [
    "test_accuracy_all_trained = [0.7729591727256775, \n",
    "                             0.7780612111091614, \n",
    "                             0.7908163070678711, \n",
    "                             0.7857142686843872, \n",
    "                             0.8214285969734192, \n",
    "                             0.8545918464660645, \n",
    "                             0.8137755393981934, \n",
    "                             0.7831632494926453, \n",
    "                             0.7448979616165161, \n",
    "                             0.8061224222183228]"
   ]
  },
  {
   "cell_type": "code",
   "execution_count": 6,
   "metadata": {},
   "outputs": [],
   "source": [
    "test_accuracy_transfer_learning = [0.7780612111091614, \n",
    "                                   0.7780612111091614, \n",
    "                                   0.7831632494926453, \n",
    "                                   0.7882652878761292, \n",
    "                                   0.8239796161651611, \n",
    "                                   0.8520408272743225, \n",
    "                                   0.8137755393981934, \n",
    "                                   0.7831632494926453, \n",
    "                                   0.7576530575752258, \n",
    "                                   0.8035714030265808]"
   ]
  },
  {
   "cell_type": "code",
   "execution_count": 7,
   "metadata": {},
   "outputs": [
    {
     "data": {
      "text/plain": [
       "0.7951530575752258"
      ]
     },
     "execution_count": 7,
     "metadata": {},
     "output_type": "execute_result"
    }
   ],
   "source": [
    "import numpy as np\n",
    "\n",
    "np.mean(test_accuracy_all_trained)"
   ]
  },
  {
   "cell_type": "code",
   "execution_count": 8,
   "metadata": {},
   "outputs": [
    {
     "data": {
      "text/plain": [
       "0.7961734652519226"
      ]
     },
     "execution_count": 8,
     "metadata": {},
     "output_type": "execute_result"
    }
   ],
   "source": [
    "np.mean(test_accuracy_transfer_learning)"
   ]
  },
  {
   "cell_type": "code",
   "execution_count": 9,
   "metadata": {},
   "outputs": [
    {
     "data": {
      "text/plain": [
       "0.02872703506123683"
      ]
     },
     "execution_count": 9,
     "metadata": {},
     "output_type": "execute_result"
    }
   ],
   "source": [
    "np.std(test_accuracy_all_trained)"
   ]
  },
  {
   "cell_type": "code",
   "execution_count": 10,
   "metadata": {},
   "outputs": [
    {
     "data": {
      "text/plain": [
       "0.02607663066996192"
      ]
     },
     "execution_count": 10,
     "metadata": {},
     "output_type": "execute_result"
    }
   ],
   "source": [
    "np.std(test_accuracy_transfer_learning)"
   ]
  }
 ],
 "metadata": {
  "kernelspec": {
   "display_name": "Python 3",
   "language": "python",
   "name": "python3"
  },
  "language_info": {
   "codemirror_mode": {
    "name": "ipython",
    "version": 3
   },
   "file_extension": ".py",
   "mimetype": "text/x-python",
   "name": "python",
   "nbconvert_exporter": "python",
   "pygments_lexer": "ipython3",
   "version": "3.7.7"
  },
  "toc": {
   "base_numbering": 1,
   "nav_menu": {},
   "number_sections": false,
   "sideBar": true,
   "skip_h1_title": false,
   "title_cell": "Table of Contents",
   "title_sidebar": "Contents",
   "toc_cell": false,
   "toc_position": {},
   "toc_section_display": true,
   "toc_window_display": false
  }
 },
 "nbformat": 4,
 "nbformat_minor": 4
}
